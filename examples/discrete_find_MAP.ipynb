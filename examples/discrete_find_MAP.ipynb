{
 "metadata": {
  "name": ""
 },
 "nbformat": 3,
 "nbformat_minor": 0,
 "worksheets": [
  {
   "cells": [
    {
     "cell_type": "heading",
     "level": 1,
     "metadata": {},
     "source": [
      "Using `find_MAP` on models with discrete variables"
     ]
    },
    {
     "cell_type": "markdown",
     "metadata": {},
     "source": [
      "Maximum a posterior(MAP) estimation, can be difficult in models which have discrete stochastic variables. Here we demonstrate the problem with a simple model, and present a few possible work arounds."
     ]
    },
    {
     "cell_type": "code",
     "collapsed": false,
     "input": [
      "import pymc3 as mc"
     ],
     "language": "python",
     "metadata": {},
     "outputs": [],
     "prompt_number": 1
    },
    {
     "cell_type": "markdown",
     "metadata": {},
     "source": [
      "We define a simple model of a survey with one data point. We use a $Beta$ distribution for the $p$ parameter in a binomial. We would like to know both the posterior distribution for p, as well as the predictive posterior distribution over the survey parameter."
     ]
    },
    {
     "cell_type": "code",
     "collapsed": false,
     "input": [
      "alpha = 4\n",
      "beta = 4\n",
      "n = 20\n",
      "yes = 15\n",
      "\n",
      "with mc.Model() as model:\n",
      "    p = mc.Beta('p', alpha, beta)\n",
      "    surv_sim = mc.Binomial('surv_sim', n=n, p=p)\n",
      "    surv = mc.Binomial('surv', n=n, p=p, observed=yes)"
     ],
     "language": "python",
     "metadata": {},
     "outputs": [],
     "prompt_number": 2
    },
    {
     "cell_type": "markdown",
     "metadata": {},
     "source": [
      "First let's try and use `find_MAP`."
     ]
    },
    {
     "cell_type": "code",
     "collapsed": false,
     "input": [
      "with model:\n",
      "    print(mc.find_MAP())"
     ],
     "language": "python",
     "metadata": {},
     "outputs": [
      {
       "output_type": "stream",
       "stream": "stdout",
       "text": [
        "{'p': array(0.6086956533498806)}\n"
       ]
      }
     ],
     "prompt_number": 3
    },
    {
     "cell_type": "markdown",
     "metadata": {},
     "source": [
      "`find_map` defaults to find the MAP for only the continuous variables we have to specify if we would like to use the discrete variables."
     ]
    },
    {
     "cell_type": "code",
     "collapsed": false,
     "input": [
      "with model:\n",
      "    print(mc.find_MAP(vars=model.vars, disp=True))"
     ],
     "language": "python",
     "metadata": {},
     "outputs": [
      {
       "output_type": "stream",
       "stream": "stdout",
       "text": [
        "Warning: vars contains discrete variables. MAP estimates may not be accurate for the default parameters. Defaulting to non-gradient minimization fmin_powell.\n",
        "Optimization terminated successfully."
       ]
      },
      {
       "output_type": "stream",
       "stream": "stdout",
       "text": [
        "\n",
        "         Current function value: 3.111511\n",
        "         Iterations: 3\n",
        "         Function evaluations: 95\n",
        "{'surv_sim': 14.0, 'p': array(0.695652178810167)}\n"
       ]
      }
     ],
     "prompt_number": 4
    },
    {
     "cell_type": "markdown",
     "metadata": {},
     "source": [
      "We set the `disp` variable to display a warning that we are using a non-gradient minimization technique, as discrete variables do not give much gradient information. To demonstrate this, if we use a gradient based minimization, `fmin_bfgs`, with various starting points we see that the map does not converge."
     ]
    },
    {
     "cell_type": "code",
     "collapsed": false,
     "input": [
      "with model:\n",
      "    for i in range(n+1):\n",
      "        s = {'p':0.5, 'surv_sim':i}\n",
      "        map_est = mc.find_MAP(start=s, vars=model.vars, fmin=mc.starting.optimize.fmin_bfgs)\n",
      "        print('surv_sim: %i->%i, p: %f->%f, LogP:%f'%(s['surv_sim'],\n",
      "                                                      map_est['surv_sim'],\n",
      "                                                      s['p'],\n",
      "                                                      map_est['p'],\n",
      "                                                      model.logpc(map_est)))"
     ],
     "language": "python",
     "metadata": {},
     "outputs": [
      {
       "output_type": "stream",
       "stream": "stdout",
       "text": [
        "surv_sim: 0->-1, p: 0.500000->0.391133, LogP:-inf\n",
        "surv_sim: 1->1, p: 0.500000->0.500000, LogP:-14.298540\n",
        "surv_sim: 2->2, p: 0.500000->0.500000, LogP:-12.047249\n",
        "surv_sim: 3->3, p: 0.500000->0.500000, LogP:-10.255489\n",
        "surv_sim: 4->4, p: 0.500000->0.500000, LogP:-8.808570\n",
        "surv_sim: 5->5, p: 0.500000->0.500000, LogP:-7.645419\n",
        "surv_sim: 6->6, p: 0.500000->0.500000, LogP:-6.729129\n",
        "surv_sim: 7->7, p: 0.500000->0.500000, LogP:-6.035981\n",
        "surv_sim: 8->8, p: 0.500000->0.500000, LogP:-5.550474\n",
        "surv_sim: 9->8, p: 0.500000->0.558888, LogP:-5.161793"
       ]
      },
      {
       "output_type": "stream",
       "stream": "stdout",
       "text": [
        "\n",
        "surv_sim: 10->9, p: 0.500000->0.587384, LogP:-4.563607\n",
        "surv_sim: 11->10, p: 0.500000->0.500000, LogP:-5.167477\n",
        "surv_sim: 12->11, p: 0.500000->0.500000, LogP:-5.262785\n",
        "surv_sim: 13->12, p: 0.500000->0.500000, LogP:-5.550465\n",
        "surv_sim: 14->13, p: 0.500000->0.500000, LogP:-6.035970"
       ]
      },
      {
       "output_type": "stream",
       "stream": "stdout",
       "text": [
        "\n",
        "surv_sim: 15->14, p: 0.500000->0.681157, LogP:-3.133947\n",
        "surv_sim: 16->16, p: 0.500000->0.500000, LogP:-8.808570\n",
        "surv_sim: 17->17, p: 0.500000->0.500000, LogP:-10.255489\n",
        "surv_sim: 18->18, p: 0.500000->0.500000, LogP:-12.047249\n",
        "surv_sim: 19->19, p: 0.500000->0.500000, LogP:-14.298540\n",
        "surv_sim: 20->20, p: 0.500000->0.500000, LogP:-17.294273\n"
       ]
      }
     ],
     "prompt_number": 5
    },
    {
     "cell_type": "markdown",
     "metadata": {},
     "source": [
      "Once again because the gradient of `surv_sim` provides no information to the `fmin` routine and it is only changed in a few cases, most of which are not correct. Manually, looking at the log proability we can see that the maximum is somewhere around `surv_sim`$=14$ and `p`$=0.7$. If we employ a non-gradient minimization, such as `fmin_powell` (the default when discrete variables are detected), we might be able to get a better estimate."
     ]
    },
    {
     "cell_type": "code",
     "collapsed": false,
     "input": [
      "with model:\n",
      "    for i in range(n+1):\n",
      "        s = {'p':0.5, 'surv_sim':i}\n",
      "        map_est = mc.find_MAP(start=s, vars=model.vars)\n",
      "        print('surv_sim: %i->%i, p: %f->%f, LogP:%f'%(s['surv_sim'],\n",
      "                                                      map_est['surv_sim'],\n",
      "                                                      s['p'],\n",
      "                                                      map_est['p'],\n",
      "                                                      model.logpc(map_est)))"
     ],
     "language": "python",
     "metadata": {},
     "outputs": [
      {
       "output_type": "stream",
       "stream": "stdout",
       "text": [
        "surv_sim: 0->2, p: 0.500000->0.434783, LogP:-11.654827\n",
        "surv_sim: 1->3, p: 0.500000->0.456522, LogP:-10.081356\n",
        "surv_sim: 2->6, p: 0.500000->0.521739, LogP:-6.685637"
       ]
      },
      {
       "output_type": "stream",
       "stream": "stdout",
       "text": [
        "\n",
        "surv_sim: 3->7, p: 0.500000->0.543478, LogP:-5.861849\n",
        "surv_sim: 4->14, p: 0.500000->0.695652, LogP:-3.111511"
       ]
      },
      {
       "output_type": "stream",
       "stream": "stdout",
       "text": [
        "\n",
        "surv_sim: 5->14, p: 0.500000->0.674290, LogP:-3.159870\n",
        "surv_sim: 6->14, p: 0.500000->0.695652, LogP:-3.111511"
       ]
      },
      {
       "output_type": "stream",
       "stream": "stdout",
       "text": [
        "\n",
        "surv_sim: 7->14, p: 0.500000->0.695652, LogP:-3.111511\n",
        "surv_sim: 8->14, p: 0.500000->0.695652, LogP:-3.111511\n",
        "surv_sim: 9->14, p: 0.500000->0.695652, LogP:-3.111511"
       ]
      },
      {
       "output_type": "stream",
       "stream": "stdout",
       "text": [
        "\n",
        "surv_sim: 10->14, p: 0.500000->0.695652, LogP:-3.111511\n",
        "surv_sim: 11->14, p: 0.500000->0.695652, LogP:-3.111511\n",
        "surv_sim: 12->14, p: 0.500000->0.695652, LogP:-3.111511"
       ]
      },
      {
       "output_type": "stream",
       "stream": "stdout",
       "text": [
        "\n",
        "surv_sim: 13->14, p: 0.500000->0.695652, LogP:-3.111511\n",
        "surv_sim: 14->14, p: 0.500000->0.695652, LogP:-3.111511\n",
        "surv_sim: 15->15, p: 0.500000->0.717392, LogP:-3.149062"
       ]
      },
      {
       "output_type": "stream",
       "stream": "stdout",
       "text": [
        "\n",
        "surv_sim: 16->14, p: 0.500000->0.695652, LogP:-3.111511\n",
        "surv_sim: 17->15, p: 0.500000->0.717391, LogP:-3.149062"
       ]
      },
      {
       "output_type": "stream",
       "stream": "stdout",
       "text": [
        "\n",
        "surv_sim: 18->14, p: 0.500000->0.695652, LogP:-3.111511\n",
        "surv_sim: 19->14, p: 0.500000->0.695652, LogP:-3.111511"
       ]
      },
      {
       "output_type": "stream",
       "stream": "stdout",
       "text": [
        "\n",
        "surv_sim: 20->14, p: 0.500000->0.712421, LogP:-3.142725"
       ]
      },
      {
       "output_type": "stream",
       "stream": "stdout",
       "text": [
        "\n"
       ]
      }
     ],
     "prompt_number": 6
    },
    {
     "cell_type": "markdown",
     "metadata": {},
     "source": [
      "For most starting values this converges to the maximum log likelihood of $\\approx -3.15$, but for particularly low starting values of `surv_sim`, or values near `surv_sim`$=14$ there is still some noise. The scipy optimize package contains some more general 'global' minimization functions that we can utilize. The `basinhopping` algorithm restarts the optimization at places near found minimums. Because it has a slightly different interface to other minimization schemes we have to define a wrapper function."
     ]
    },
    {
     "cell_type": "code",
     "collapsed": false,
     "input": [
      "def bh(*args,**kwargs):\n",
      "    result = mc.starting.optimize.basinhopping(*args, **kwargs)\n",
      "    # A `Result` object is returned, the argmin value can be in `x`\n",
      "    return result['x']\n",
      "\n",
      "with model:\n",
      "    for i in range(n+1):\n",
      "        s = {'p':0.5, 'surv_sim':i}\n",
      "        map_est = mc.find_MAP(start=s, vars=model.vars, fmin=bh)\n",
      "        print('surv_sim: %i->%i, p: %f->%f, LogP:%f'%(s['surv_sim'],\n",
      "                                                      floor(map_est['surv_sim']),\n",
      "                                                      s['p'],\n",
      "                                                      map_est['p'],\n",
      "                                                      model.logpc(map_est)))"
     ],
     "language": "python",
     "metadata": {},
     "outputs": [
      {
       "output_type": "stream",
       "stream": "stdout",
       "text": [
        "surv_sim: 0->5, p: 0.500000->0.500000, LogP:-7.645419\n",
        "surv_sim: 1->7, p: 0.500000->0.543478, LogP:-5.861849"
       ]
      },
      {
       "output_type": "stream",
       "stream": "stdout",
       "text": [
        "\n",
        "surv_sim: 2->10, p: 0.500000->0.608696, LogP:-4.071797"
       ]
      },
      {
       "output_type": "stream",
       "stream": "stdout",
       "text": [
        "\n",
        "surv_sim: 3->8, p: 0.500000->0.565217, LogP:-5.158052"
       ]
      },
      {
       "output_type": "stream",
       "stream": "stdout",
       "text": [
        "\n",
        "surv_sim: 4->10, p: 0.500000->0.608696, LogP:-4.071797"
       ]
      },
      {
       "output_type": "stream",
       "stream": "stdout",
       "text": [
        "\n",
        "surv_sim: 5->7, p: 0.500000->0.543478, LogP:-5.861849"
       ]
      },
      {
       "output_type": "stream",
       "stream": "stdout",
       "text": [
        "\n",
        "surv_sim: 6->12, p: 0.500000->0.652174, LogP:-3.385867"
       ]
      },
      {
       "output_type": "stream",
       "stream": "stdout",
       "text": [
        "\n",
        "surv_sim: 7->8, p: 0.500000->0.565217, LogP:-5.158052"
       ]
      },
      {
       "output_type": "stream",
       "stream": "stdout",
       "text": [
        "\n",
        "surv_sim: 8->11, p: 0.500000->0.630435, LogP:-3.679320"
       ]
      },
      {
       "output_type": "stream",
       "stream": "stdout",
       "text": [
        "\n",
        "surv_sim: 9->10, p: 0.500000->0.608696, LogP:-4.071797"
       ]
      },
      {
       "output_type": "stream",
       "stream": "stdout",
       "text": [
        "\n",
        "surv_sim: 10->12, p: 0.500000->0.652174, LogP:-3.385867"
       ]
      },
      {
       "output_type": "stream",
       "stream": "stdout",
       "text": [
        "\n",
        "surv_sim: 11->13, p: 0.500000->0.673913, LogP:-3.194359"
       ]
      },
      {
       "output_type": "stream",
       "stream": "stdout",
       "text": [
        "\n",
        "surv_sim: 12->14, p: 0.500000->0.695652, LogP:-3.111511"
       ]
      },
      {
       "output_type": "stream",
       "stream": "stdout",
       "text": [
        "\n",
        "surv_sim: 13->14, p: 0.500000->0.695652, LogP:-3.111511"
       ]
      },
      {
       "output_type": "stream",
       "stream": "stdout",
       "text": [
        "\n",
        "surv_sim: 14->14, p: 0.500000->0.695652, LogP:-3.111511"
       ]
      },
      {
       "output_type": "stream",
       "stream": "stdout",
       "text": [
        "\n",
        "surv_sim: 15->14, p: 0.500000->0.695652, LogP:-3.111511"
       ]
      },
      {
       "output_type": "stream",
       "stream": "stdout",
       "text": [
        "\n",
        "surv_sim: 16->15, p: 0.500000->0.717391, LogP:-3.149062"
       ]
      },
      {
       "output_type": "stream",
       "stream": "stdout",
       "text": [
        "\n",
        "surv_sim: 17->14, p: 0.500000->0.695652, LogP:-3.111511"
       ]
      },
      {
       "output_type": "stream",
       "stream": "stdout",
       "text": [
        "\n",
        "surv_sim: 18->15, p: 0.500000->0.717391, LogP:-3.149062"
       ]
      },
      {
       "output_type": "stream",
       "stream": "stdout",
       "text": [
        "\n",
        "surv_sim: 19->18, p: 0.500000->0.782609, LogP:-4.247450"
       ]
      },
      {
       "output_type": "stream",
       "stream": "stdout",
       "text": [
        "\n",
        "surv_sim: 20->18, p: 0.500000->0.782609, LogP:-4.247450"
       ]
      },
      {
       "output_type": "stream",
       "stream": "stdout",
       "text": [
        "\n"
       ]
      }
     ],
     "prompt_number": 7
    },
    {
     "cell_type": "markdown",
     "metadata": {},
     "source": [
      "By default `basinhopping` uses a gradient minimization technique, `fmin_bfgs`, resulting in inaccurate predictions many times. If we force `basinhoping` to use a non-gradient technique we get much better results"
     ]
    },
    {
     "cell_type": "code",
     "collapsed": false,
     "input": [
      "with model:\n",
      "    for i in range(n+1):\n",
      "        s = {'p':0.5, 'surv_sim':i}\n",
      "        map_est = mc.find_MAP(start=s, vars=model.vars, fmin=bh, minimizer_kwargs={\"method\": /\"Powell\"})\n",
      "        print('surv_sim: %i->%i, p: %f->%f, LogP:%f'%(s['surv_sim'],\n",
      "                                                      map_est['surv_sim'],\n",
      "                                                      s['p'],\n",
      "                                                      map_est['p'],\n",
      "                                                      model.logpc(map_est)))"
     ],
     "language": "python",
     "metadata": {},
     "outputs": [
      {
       "output_type": "stream",
       "stream": "stdout",
       "text": [
        "surv_sim: 0->14, p: 0.500000->0.695652, LogP:-3.111511\n",
        "surv_sim: 1->14, p: 0.500000->0.695652, LogP:-3.111511"
       ]
      },
      {
       "output_type": "stream",
       "stream": "stdout",
       "text": [
        "\n",
        "surv_sim: 2->14, p: 0.500000->0.695652, LogP:-3.111511"
       ]
      },
      {
       "output_type": "stream",
       "stream": "stdout",
       "text": [
        "\n",
        "surv_sim: 3->14, p: 0.500000->0.695652, LogP:-3.111511"
       ]
      },
      {
       "output_type": "stream",
       "stream": "stdout",
       "text": [
        "\n",
        "surv_sim: 4->14, p: 0.500000->0.695652, LogP:-3.111511"
       ]
      },
      {
       "output_type": "stream",
       "stream": "stdout",
       "text": [
        "\n",
        "surv_sim: 5->14, p: 0.500000->0.695652, LogP:-3.111511"
       ]
      },
      {
       "output_type": "stream",
       "stream": "stdout",
       "text": [
        "\n",
        "surv_sim: 6->14, p: 0.500000->0.695652, LogP:-3.111511"
       ]
      },
      {
       "output_type": "stream",
       "stream": "stdout",
       "text": [
        "\n",
        "surv_sim: 7->14, p: 0.500000->0.695652, LogP:-3.111511"
       ]
      },
      {
       "output_type": "stream",
       "stream": "stdout",
       "text": [
        "\n",
        "surv_sim: 8->14, p: 0.500000->0.695652, LogP:-3.111511"
       ]
      },
      {
       "output_type": "stream",
       "stream": "stdout",
       "text": [
        "\n",
        "surv_sim: 9->14, p: 0.500000->0.695652, LogP:-3.111511"
       ]
      },
      {
       "output_type": "stream",
       "stream": "stdout",
       "text": [
        "\n",
        "surv_sim: 10->14, p: 0.500000->0.695652, LogP:-3.111511"
       ]
      },
      {
       "output_type": "stream",
       "stream": "stdout",
       "text": [
        "\n",
        "surv_sim: 11->14, p: 0.500000->0.695652, LogP:-3.111511"
       ]
      },
      {
       "output_type": "stream",
       "stream": "stdout",
       "text": [
        "\n",
        "surv_sim: 12->14, p: 0.500000->0.695652, LogP:-3.111511"
       ]
      },
      {
       "output_type": "stream",
       "stream": "stdout",
       "text": [
        "\n",
        "surv_sim: 13->14, p: 0.500000->0.695652, LogP:-3.111511"
       ]
      },
      {
       "output_type": "stream",
       "stream": "stdout",
       "text": [
        "\n",
        "surv_sim: 14->14, p: 0.500000->0.695652, LogP:-3.111511"
       ]
      },
      {
       "output_type": "stream",
       "stream": "stdout",
       "text": [
        "\n",
        "surv_sim: 15->14, p: 0.500000->0.695652, LogP:-3.111511"
       ]
      },
      {
       "output_type": "stream",
       "stream": "stdout",
       "text": [
        "\n",
        "surv_sim: 16->14, p: 0.500000->0.695652, LogP:-3.111511"
       ]
      },
      {
       "output_type": "stream",
       "stream": "stdout",
       "text": [
        "\n",
        "surv_sim: 17->14, p: 0.500000->0.695652, LogP:-3.111511"
       ]
      },
      {
       "output_type": "stream",
       "stream": "stdout",
       "text": [
        "\n",
        "surv_sim: 18->14, p: 0.500000->0.695652, LogP:-3.111511"
       ]
      },
      {
       "output_type": "stream",
       "stream": "stdout",
       "text": [
        "\n",
        "surv_sim: 19->14, p: 0.500000->0.695652, LogP:-3.111511"
       ]
      },
      {
       "output_type": "stream",
       "stream": "stdout",
       "text": [
        "\n",
        "surv_sim: 20->14, p: 0.500000->0.695652, LogP:-3.111511"
       ]
      },
      {
       "output_type": "stream",
       "stream": "stdout",
       "text": [
        "\n"
       ]
      }
     ],
     "prompt_number": 8
    },
    {
     "cell_type": "markdown",
     "metadata": {},
     "source": [
      "Confident in our MAP estimate we can sample from the posterior, making sure we use the `Metropolis` method for our discrete variables."
     ]
    },
    {
     "cell_type": "code",
     "collapsed": false,
     "input": [
      "with model:\n",
      "    step1 = mc.step_methods.HamiltonianMC(vars=[p])\n",
      "    step2 = mc.step_methods.Metropolis(vars=[surv_sim])"
     ],
     "language": "python",
     "metadata": {},
     "outputs": [],
     "prompt_number": 9
    },
    {
     "cell_type": "code",
     "collapsed": false,
     "input": [
      "with model:\n",
      "    trace = mc.sample(25000,[step1,step2],start=map_est)"
     ],
     "language": "python",
     "metadata": {},
     "outputs": [
      {
       "output_type": "stream",
       "stream": "stdout",
       "text": [
        "\r",
        " [                  1%                  ] 335 of 25000 complete in 0.5 sec"
       ]
      },
      {
       "output_type": "stream",
       "stream": "stdout",
       "text": [
        "\r",
        " [-                 2%                  ] 670 of 25000 complete in 1.0 sec"
       ]
      },
      {
       "output_type": "stream",
       "stream": "stdout",
       "text": [
        "\r",
        " [-                 4%                  ] 1004 of 25000 complete in 1.5 sec"
       ]
      },
      {
       "output_type": "stream",
       "stream": "stdout",
       "text": [
        "\r",
        " [--                5%                  ] 1340 of 25000 complete in 2.0 sec"
       ]
      },
      {
       "output_type": "stream",
       "stream": "stdout",
       "text": [
        "\r",
        " [--                6%                  ] 1673 of 25000 complete in 2.5 sec"
       ]
      },
      {
       "output_type": "stream",
       "stream": "stdout",
       "text": [
        "\r",
        " [---               8%                  ] 2009 of 25000 complete in 3.0 sec"
       ]
      },
      {
       "output_type": "stream",
       "stream": "stdout",
       "text": [
        "\r",
        " [---               9%                  ] 2345 of 25000 complete in 3.5 sec"
       ]
      },
      {
       "output_type": "stream",
       "stream": "stdout",
       "text": [
        "\r",
        " [----             10%                  ] 2680 of 25000 complete in 4.0 sec"
       ]
      },
      {
       "output_type": "stream",
       "stream": "stdout",
       "text": [
        "\r",
        " [----             12%                  ] 3016 of 25000 complete in 4.5 sec"
       ]
      },
      {
       "output_type": "stream",
       "stream": "stdout",
       "text": [
        "\r",
        " [-----            13%                  ] 3350 of 25000 complete in 5.0 sec"
       ]
      },
      {
       "output_type": "stream",
       "stream": "stdout",
       "text": [
        "\r",
        " [-----            14%                  ] 3686 of 25000 complete in 5.5 sec"
       ]
      },
      {
       "output_type": "stream",
       "stream": "stdout",
       "text": [
        "\r",
        " [------           16%                  ] 4021 of 25000 complete in 6.0 sec"
       ]
      },
      {
       "output_type": "stream",
       "stream": "stdout",
       "text": [
        "\r",
        " [------           17%                  ] 4357 of 25000 complete in 6.5 sec"
       ]
      },
      {
       "output_type": "stream",
       "stream": "stdout",
       "text": [
        "\r",
        " [-------          18%                  ] 4691 of 25000 complete in 7.0 sec"
       ]
      },
      {
       "output_type": "stream",
       "stream": "stdout",
       "text": [
        "\r",
        " [-------          20%                  ] 5026 of 25000 complete in 7.5 sec"
       ]
      },
      {
       "output_type": "stream",
       "stream": "stdout",
       "text": [
        "\r",
        " [--------         21%                  ] 5362 of 25000 complete in 8.0 sec"
       ]
      },
      {
       "output_type": "stream",
       "stream": "stdout",
       "text": [
        "\r",
        " [--------         22%                  ] 5700 of 25000 complete in 8.5 sec"
       ]
      },
      {
       "output_type": "stream",
       "stream": "stdout",
       "text": [
        "\r",
        " [---------        24%                  ] 6036 of 25000 complete in 9.0 sec"
       ]
      },
      {
       "output_type": "stream",
       "stream": "stdout",
       "text": [
        "\r",
        " [---------        25%                  ] 6370 of 25000 complete in 9.5 sec"
       ]
      },
      {
       "output_type": "stream",
       "stream": "stdout",
       "text": [
        "\r",
        " [----------       26%                  ] 6705 of 25000 complete in 10.0 sec"
       ]
      },
      {
       "output_type": "stream",
       "stream": "stdout",
       "text": [
        "\r",
        " [----------       28%                  ] 7040 of 25000 complete in 10.5 sec"
       ]
      },
      {
       "output_type": "stream",
       "stream": "stdout",
       "text": [
        "\r",
        " [-----------      29%                  ] 7375 of 25000 complete in 11.0 sec"
       ]
      },
      {
       "output_type": "stream",
       "stream": "stdout",
       "text": [
        "\r",
        " [-----------      30%                  ] 7709 of 25000 complete in 11.5 sec"
       ]
      },
      {
       "output_type": "stream",
       "stream": "stdout",
       "text": [
        "\r",
        " [------------     32%                  ] 8041 of 25000 complete in 12.0 sec"
       ]
      },
      {
       "output_type": "stream",
       "stream": "stdout",
       "text": [
        "\r",
        " [------------     33%                  ] 8375 of 25000 complete in 12.5 sec"
       ]
      },
      {
       "output_type": "stream",
       "stream": "stdout",
       "text": [
        "\r",
        " [-------------    34%                  ] 8710 of 25000 complete in 13.0 sec"
       ]
      },
      {
       "output_type": "stream",
       "stream": "stdout",
       "text": [
        "\r",
        " [-------------    36%                  ] 9042 of 25000 complete in 13.5 sec"
       ]
      },
      {
       "output_type": "stream",
       "stream": "stdout",
       "text": [
        "\r",
        " [--------------   37%                  ] 9372 of 25000 complete in 14.0 sec"
       ]
      },
      {
       "output_type": "stream",
       "stream": "stdout",
       "text": [
        "\r",
        " [--------------   38%                  ] 9708 of 25000 complete in 14.5 sec"
       ]
      },
      {
       "output_type": "stream",
       "stream": "stdout",
       "text": [
        "\r",
        " [---------------  40%                  ] 10043 of 25000 complete in 15.0 sec"
       ]
      },
      {
       "output_type": "stream",
       "stream": "stdout",
       "text": [
        "\r",
        " [---------------  41%                  ] 10378 of 25000 complete in 15.5 sec"
       ]
      },
      {
       "output_type": "stream",
       "stream": "stdout",
       "text": [
        "\r",
        " [---------------- 42%                  ] 10713 of 25000 complete in 16.0 sec"
       ]
      },
      {
       "output_type": "stream",
       "stream": "stdout",
       "text": [
        "\r",
        " [---------------- 44%                  ] 11049 of 25000 complete in 16.5 sec"
       ]
      },
      {
       "output_type": "stream",
       "stream": "stdout",
       "text": [
        "\r",
        " [-----------------45%                  ] 11386 of 25000 complete in 17.0 sec"
       ]
      },
      {
       "output_type": "stream",
       "stream": "stdout",
       "text": [
        "\r",
        " [-----------------46%                  ] 11721 of 25000 complete in 17.5 sec"
       ]
      },
      {
       "output_type": "stream",
       "stream": "stdout",
       "text": [
        "\r",
        " [-----------------48%                  ] 12057 of 25000 complete in 18.0 sec"
       ]
      },
      {
       "output_type": "stream",
       "stream": "stdout",
       "text": [
        "\r",
        " [-----------------49%                  ] 12393 of 25000 complete in 18.5 sec"
       ]
      },
      {
       "output_type": "stream",
       "stream": "stdout",
       "text": [
        "\r",
        " [-----------------50%                  ] 12729 of 25000 complete in 19.0 sec"
       ]
      },
      {
       "output_type": "stream",
       "stream": "stdout",
       "text": [
        "\r",
        " [-----------------52%                  ] 13064 of 25000 complete in 19.5 sec"
       ]
      },
      {
       "output_type": "stream",
       "stream": "stdout",
       "text": [
        "\r",
        " [-----------------53%                  ] 13399 of 25000 complete in 20.0 sec"
       ]
      },
      {
       "output_type": "stream",
       "stream": "stdout",
       "text": [
        "\r",
        " [-----------------54%                  ] 13733 of 25000 complete in 20.5 sec"
       ]
      },
      {
       "output_type": "stream",
       "stream": "stdout",
       "text": [
        "\r",
        " [-----------------56%-                 ] 14070 of 25000 complete in 21.0 sec"
       ]
      },
      {
       "output_type": "stream",
       "stream": "stdout",
       "text": [
        "\r",
        " [-----------------57%-                 ] 14404 of 25000 complete in 21.5 sec"
       ]
      },
      {
       "output_type": "stream",
       "stream": "stdout",
       "text": [
        "\r",
        " [-----------------58%--                ] 14739 of 25000 complete in 22.0 sec"
       ]
      },
      {
       "output_type": "stream",
       "stream": "stdout",
       "text": [
        "\r",
        " [-----------------60%--                ] 15073 of 25000 complete in 22.5 sec"
       ]
      },
      {
       "output_type": "stream",
       "stream": "stdout",
       "text": [
        "\r",
        " [-----------------61%---               ] 15408 of 25000 complete in 23.0 sec"
       ]
      },
      {
       "output_type": "stream",
       "stream": "stdout",
       "text": [
        "\r",
        " [-----------------62%---               ] 15744 of 25000 complete in 23.5 sec"
       ]
      },
      {
       "output_type": "stream",
       "stream": "stdout",
       "text": [
        "\r",
        " [-----------------64%----              ] 16081 of 25000 complete in 24.0 sec"
       ]
      },
      {
       "output_type": "stream",
       "stream": "stdout",
       "text": [
        "\r",
        " [-----------------65%----              ] 16416 of 25000 complete in 24.5 sec"
       ]
      },
      {
       "output_type": "stream",
       "stream": "stdout",
       "text": [
        "\r",
        " [-----------------67%-----             ] 16752 of 25000 complete in 25.0 sec"
       ]
      },
      {
       "output_type": "stream",
       "stream": "stdout",
       "text": [
        "\r",
        " [-----------------68%-----             ] 17087 of 25000 complete in 25.5 sec"
       ]
      },
      {
       "output_type": "stream",
       "stream": "stdout",
       "text": [
        "\r",
        " [-----------------69%------            ] 17422 of 25000 complete in 26.0 sec"
       ]
      },
      {
       "output_type": "stream",
       "stream": "stdout",
       "text": [
        "\r",
        " [-----------------71%------            ] 17758 of 25000 complete in 26.5 sec"
       ]
      },
      {
       "output_type": "stream",
       "stream": "stdout",
       "text": [
        "\r",
        " [-----------------72%-------           ] 18094 of 25000 complete in 27.0 sec"
       ]
      },
      {
       "output_type": "stream",
       "stream": "stdout",
       "text": [
        "\r",
        " [-----------------73%--------          ] 18430 of 25000 complete in 27.5 sec"
       ]
      },
      {
       "output_type": "stream",
       "stream": "stdout",
       "text": [
        "\r",
        " [-----------------75%--------          ] 18765 of 25000 complete in 28.0 sec"
       ]
      },
      {
       "output_type": "stream",
       "stream": "stdout",
       "text": [
        "\r",
        " [-----------------76%---------         ] 19100 of 25000 complete in 28.5 sec"
       ]
      },
      {
       "output_type": "stream",
       "stream": "stdout",
       "text": [
        "\r",
        " [-----------------77%---------         ] 19435 of 25000 complete in 29.0 sec"
       ]
      },
      {
       "output_type": "stream",
       "stream": "stdout",
       "text": [
        "\r",
        " [-----------------79%----------        ] 19770 of 25000 complete in 29.5 sec"
       ]
      },
      {
       "output_type": "stream",
       "stream": "stdout",
       "text": [
        "\r",
        " [-----------------80%----------        ] 20106 of 25000 complete in 30.0 sec"
       ]
      },
      {
       "output_type": "stream",
       "stream": "stdout",
       "text": [
        "\r",
        " [-----------------81%-----------       ] 20440 of 25000 complete in 30.5 sec"
       ]
      },
      {
       "output_type": "stream",
       "stream": "stdout",
       "text": [
        "\r",
        " [-----------------83%-----------       ] 20775 of 25000 complete in 31.0 sec"
       ]
      },
      {
       "output_type": "stream",
       "stream": "stdout",
       "text": [
        "\r",
        " [-----------------84%------------      ] 21111 of 25000 complete in 31.5 sec"
       ]
      },
      {
       "output_type": "stream",
       "stream": "stdout",
       "text": [
        "\r",
        " [-----------------85%------------      ] 21446 of 25000 complete in 32.0 sec"
       ]
      },
      {
       "output_type": "stream",
       "stream": "stdout",
       "text": [
        "\r",
        " [-----------------87%-------------     ] 21782 of 25000 complete in 32.5 sec"
       ]
      },
      {
       "output_type": "stream",
       "stream": "stdout",
       "text": [
        "\r",
        " [-----------------88%-------------     ] 22116 of 25000 complete in 33.0 sec"
       ]
      },
      {
       "output_type": "stream",
       "stream": "stdout",
       "text": [
        "\r",
        " [-----------------89%--------------    ] 22452 of 25000 complete in 33.5 sec"
       ]
      },
      {
       "output_type": "stream",
       "stream": "stdout",
       "text": [
        "\r",
        " [-----------------91%--------------    ] 22789 of 25000 complete in 34.0 sec"
       ]
      },
      {
       "output_type": "stream",
       "stream": "stdout",
       "text": [
        "\r",
        " [-----------------92%---------------   ] 23123 of 25000 complete in 34.5 sec"
       ]
      },
      {
       "output_type": "stream",
       "stream": "stdout",
       "text": [
        "\r",
        " [-----------------93%---------------   ] 23458 of 25000 complete in 35.1 sec"
       ]
      },
      {
       "output_type": "stream",
       "stream": "stdout",
       "text": [
        "\r",
        " [-----------------95%----------------  ] 23790 of 25000 complete in 35.6 sec"
       ]
      },
      {
       "output_type": "stream",
       "stream": "stdout",
       "text": [
        "\r",
        " [-----------------96%----------------  ] 24125 of 25000 complete in 36.1 sec"
       ]
      },
      {
       "output_type": "stream",
       "stream": "stdout",
       "text": [
        "\r",
        " [-----------------97%----------------- ] 24460 of 25000 complete in 36.6 sec"
       ]
      },
      {
       "output_type": "stream",
       "stream": "stdout",
       "text": [
        "\r",
        " [-----------------99%----------------- ] 24796 of 25000 complete in 37.1 sec"
       ]
      },
      {
       "output_type": "stream",
       "stream": "stdout",
       "text": [
        "\r",
        " [-----------------100%-----------------] 25000 of 25000 complete in 37.4 sec"
       ]
      }
     ],
     "prompt_number": 10
    },
    {
     "cell_type": "code",
     "collapsed": false,
     "input": [
      "mc.traceplot(trace);"
     ],
     "language": "python",
     "metadata": {},
     "outputs": [
      {
       "metadata": {},
       "output_type": "display_data",
       "png": "[encoded data removed]",
       "text": [
        "<matplotlib.figure.Figure at 0xe197c50>"
       ]
      }
     ],
     "prompt_number": 11
    },
    {
     "cell_type": "code",
     "collapsed": false,
     "input": [],
     "language": "python",
     "metadata": {},
     "outputs": []
    }
   ],
   "metadata": {}
  }
 ]
}
