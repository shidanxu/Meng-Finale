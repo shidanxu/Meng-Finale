{
 "cells": [
  {
   "cell_type": "code",
   "execution_count": null,
   "metadata": {
    "collapsed": false
   },
   "outputs": [],
   "source": [
    "\"\"\"Bayesian Estimation Supersedes the T-Test\n",
    "\n",
    "This model replicates the example used in:\n",
    "Kruschke, John. (2012) Bayesian estimation supersedes the t test. Journal of Experimental Psychology: General.\n",
    "\n",
    "The original pymc2 implementation was written by Andrew Straw and can be found here: https://github.com/strawlab/best\n",
    "\n",
    "Ported to PyMC3 by Thomas Wiecki (c) 2015.\n",
    "\"\"\"\n",
    "\n",
    "import numpy as np\n",
    "import pymc3 as pm\n",
    "\n",
    "drug = (101,100,102,104,102,97,105,105,98,101,100,123,105,103,100,95,102,106,\n",
    "        109,102,82,102,100,102,102,101,102,102,103,103,97,97,103,101,97,104,\n",
    "        96,103,124,101,101,100,101,101,104,100,101)\n",
    "placebo = (99,101,100,101,102,100,97,101,104,101,102,102,100,105,88,101,100,\n",
    "           104,100,100,100,101,102,103,97,101,101,100,101,99,101,100,100,\n",
    "           101,100,99,101,100,102,99,100,99)\n",
    "\n",
    "y1 = np.array(drug)\n",
    "y2 = np.array(placebo)\n",
    "y = np.concatenate((y1, y2))\n",
    "\n",
    "mu_m = np.mean( y )\n",
    "mu_p = 0.000001 * 1/np.std(y)**2\n",
    "\n",
    "sigma_low = np.std(y)/1000\n",
    "sigma_high = np.std(y)*1000\n",
    "\n",
    "with pm.Model() as model:\n",
    "    group1_mean = pm.Normal('group1_mean', mu=mu_m, tau=mu_p, testval=y1.mean())\n",
    "    group2_mean = pm.Normal('group2_mean', mu=mu_m, tau=mu_p, testval=y2.mean())\n",
    "    group1_std = pm.Uniform('group1_std', lower=sigma_low, upper=sigma_high, testval=y1.std())\n",
    "    group2_std = pm.Uniform('group2_std', lower=sigma_low, upper=sigma_high, testval=y2.std())\n",
    "    nu = pm.Exponential('nu_minus_one', 1/29.) + 1\n",
    "    \n",
    "    lam1 = group1_std**-2\n",
    "    lam2 = group2_std**-2\n",
    "\n",
    "    group1 = pm.T('drug', nu=nu, mu=group1_mean, lam=lam1, observed=y1)\n",
    "    group2 = pm.T('placebo', nu=nu, mu=group2_mean, lam=lam2, observed=y2)\n",
    "\n",
    "    diff_of_means = pm.Deterministic('difference of means', group1_mean - group2_mean)\n",
    "    diff_of_stds = pm.Deterministic('difference of stds', group1_std - group2_std)\n",
    "    effect_size = pm.Deterministic('effect size', diff_of_means / pm.sqrt((group1_std**2 + group2_std**2) / 2))\n",
    "    \n",
    "    step = pm.NUTS()\n",
    "    trace = pm.sample(5000, step)"
   ]
  },
  {
   "cell_type": "code",
   "execution_count": null,
   "metadata": {
    "collapsed": false
   },
   "outputs": [],
   "source": [
    "%matplotlib inline"
   ]
  },
  {
   "cell_type": "code",
   "execution_count": null,
   "metadata": {
    "collapsed": false
   },
   "outputs": [],
   "source": [
    "pm.traceplot(trace[1000:]);"
   ]
  },
  {
   "cell_type": "code",
   "execution_count": null,
   "metadata": {
    "collapsed": false
   },
   "outputs": [],
   "source": [
    "pm.plots.summary(trace[1000:])"
   ]
  },
  {
   "cell_type": "code",
   "execution_count": null,
   "metadata": {
    "collapsed": true
   },
   "outputs": [],
   "source": []
  }
 ],
 "metadata": {
  "kernelspec": {
   "display_name": "Python 2",
   "language": "python",
   "name": "python2"
  },
  "language_info": {
   "codemirror_mode": {
    "name": "ipython",
    "version": 2
   },
   "file_extension": ".py",
   "mimetype": "text/x-python",
   "name": "python",
   "nbconvert_exporter": "python",
   "pygments_lexer": "ipython2",
   "version": "2.7.6"
  }
 },
 "nbformat": 4,
 "nbformat_minor": 0
}
