{
 "metadata": {
  "name": "",
  "signature": "sha256:50a47d4f6edb62bd73b9f14f110d74e80b2c2817875d7b1290bf98c937b5aa01"
 },
 "nbformat": 3,
 "nbformat_minor": 0,
 "worksheets": [
  {
   "cells": [
    {
     "cell_type": "markdown",
     "metadata": {},
     "source": [
      "# Probabilistic Matrix Factorization for Making Personalized Recommendations"
     ]
    },
    {
     "cell_type": "markdown",
     "metadata": {},
     "source": [
      "The model discussed in this analysis was developed by Ruslan Salakhutdinov and Andriy Mnih. All of the code and supporting text, when not referenced, is the original work of [Mack Sweeney](https://www.linkedin.com/in/macksweeney).\n",
      "\n",
      "## Motivation\n",
      "\n",
      "Say I download a handbook of a hundred jokes, and I'd like to know very quickly which ones will be my favorite. So maybe I read a few, I laugh, I read a few more, I stop laughing, and I indicate on a scale of -10 to 10 how funny I thought each joke was. Maybe I do this for 5 jokes out of the 100. Now I go to the back of the book, and there's a little program included for calculating my preferences for all the other jokes. I enter in my preference numbers and shazam! The program spits out a list of all 100 jokes, sorted in the order I'll like them. That certainly would be nice. Today we'll write a program that does exactly this.\n",
      "\n",
      "We'll start out by getting some intuition for how our model will work. Then we'll formalize our intuition. Afterwards, we'll examine the dataset we are going to use. Once we have some notion of what our data looks like, we'll define some baseline methods for predicting preferences for jokes. Following that, we'll look at Probabilistic Matrix Factorization (PMF), which is a more sophisticated Bayesian method for predicting preferences. Having detailed the PMF model, we'll use PyMC3 for MAP estimation and MCMC inference. Finally, we'll compare the results obtained with PMF to those obtained from our baseline methods and discuss the outcome.\n",
      "\n",
      "## Intuition\n",
      "\n",
      "Normally if we want recommendations for something, we try to find people who are similar to us and ask their opinions. If Bob, Alice, and Monty are all similar to me, and they all like knock-knock jokes, I'll probably like knock-knock jokes. Now this isn't always true. It depends on what we consider to be \"similar\". In order to get the best bang for our buck, we really want to look for people who have the most similar sense of humor. Humor being a complex beast, we'd probably like to break it down into something more understandable. We might try to characterize each joke in terms of various factors. Perhaps jokes can be dry, sarcastic, crude, sexual, political, etc. Now imagine we go through our handbook of jokes and assign each joke a rating in each of the categories. How dry is it? How sarcastic is it? How much does it use sexual innuendos? Perhaps we use numbers between 0 and 1 for each category. Intuitively, we might call this the joke's humor profile.\n",
      "\n",
      "Now let's suppose we go back to those 5 jokes we rated. At this point, we can get a richer picture of our own preferences by looking at the humor profiles of each of the jokes we liked and didn't like. Perhaps we take the averages across the 5 humor profiles and call this our ideal type of joke. In other words, we have computed some notion of our inherent _preferences_ for various types of jokes. Suppose Bob, Alice, and Monty all do the same. Now we can compare our preferences and determine how similar each of us really are. I might find that Bob is the most similar and the other two are still more similar than other people, but not as much as Bob. So I want recommendations from all three people, but when I make my final decision, I'm going to put more weight on Bob's recommendation than those I get from Alice and Monty.\n",
      "\n",
      "While the above procedure sounds fairly effective as is, it also reveals an unexpected additional source of information. If we rated a particular joke highly, and we know its humor profile, we can compare with the profiles of other jokes. If we find one with very close numbers, it is probable we'll also enjoy this joke. Both this approach and the one above are commonly known as _neighborhood approaches_. Techniques that leverage both of these approaches simultaneously are often called _collaborative filtering_ [[1]](http://www2.research.att.com/~volinsky/papers/ieeecomputer.pdf). The first approach we talked about uses user-user similarity, while the second uses item-item similarity. Ideally, we'd like to use both sources of information. The idea is we have a lot of items available to us, and we'd like to work together with others to filter the list of items down to those we'll each like best. My list should have the items I'll like best at the top and those I'll like least at the bottom. Everyone else wants the same. If I get together with a bunch of other people, we all read 5 jokes, and we have some efficient computational process to determine similarity, we can very quickly order the jokes to our liking.\n",
      "\n",
      "## Formalization\n",
      "\n",
      "Let's take some time to make the intuitive notions we've been discussing more concrete. We have a set of $M$ jokes, or _items_ ($M = 100$ in our example above). We also have $N$ people, whom we'll call _users_ of our recommender system. For each item, we'd like to find a $D$ dimensional factor composition (humor profile above) to describe the item. Ideally, we'd like to do this without actually going through and manually labeling all of the jokes. Manual labeling would be both slow and error-prone, as different people will likely label jokes differently. So we model each joke as a $D$ dimensional vector, which is its latent factor composition. Furthermore, we expect each user to have some preferences, but without our manual labeling and averaging procedure, we have to rely on the latent factor compositions to learn $D$ dimensional latent preference vectors for each user. The only thing we get to observe is the $N \\times M$ ratings matrix $R$ provided by the users. Entry $R_{ij}$ is the rating user $i$ gave to item $j$. Many of these entries may be missing, since most users will not have rated all 100 jokes. Our goal is to fill in the missing values with predicted ratings based on the latent variables $U$ and $V$. We denote the predicted ratings by $R_{ij}^*$. We also define an indicator matrix $I$, with entry $I_{ij} = 0$ if $R_{ij}$ is missing and $I_{ij} = 1$ otherwise.\n",
      "\n",
      "So we have an $N \\times D$ matrix of user preferences which we'll call $U$ and an $M \\times D$ factor composition matrix we'll call $V$. We also have a $N \\times M$ rating matrix we'll call $R$. We can think of each row $U_i$ as indications of how much each user prefers each of the $D$ latent factors. Each row $V_j$ can be thought of as how much each item can be described by each of the latent factors. In order to make a recommendation, we need a suitable prediction function which maps a user preference vector $U_i$ and an item latent factor vector $V_j$ to a predicted ranking. The choice of this prediction function is an important modeling decision, and a variety of prediction functions have been used. Perhaps the most common is the dot product of the two vectors, $U_i \\cdot V_j$ [[1]](http://www2.research.att.com/~volinsky/papers/ieeecomputer.pdf).\n",
      "\n",
      "To better understand CF techniques, let us explore a particular example. Imagine we are seeking to recommend jokes using a model which infers five latent factors, $V_j$, for $j = 1,2,3,4,5$. In reality, the latent factors are often unexplainable in a straightforward manner, and most models make no attempt to understand what information is being captured by each factor.  However, for the purposes of explanation, let us assume the five latent factors might end up capturing the humor profile we were discussing above. So our five latent factors are: dry, sarcastic, crude, sexual, and political. Then for a particular user $i$, imagine we infer a preference vector $U_i = <0.2, 0.1, 0.3, 0.1, 0.3>$. Also, for a particular item $j$, we infer these values for the latent factors: $V_j = <0.5, 0.5, 0.25, 0.8, 0.9>$. Using the dot product as the prediction function, we would calculate 0.575 as the ranking for that item, which is more or less a neutral preference given our -10 to 10 rating scale.\n",
      "\n",
      "$$0.2 \\times 0.5 + 0.1 \\times 0.5 + 0.3 \\times 0.25 + 0.1 \\times 0.8 + 0.3\n",
      "\\times 0.9 = 0.575$$\n"
     ]
    },
    {
     "cell_type": "markdown",
     "metadata": {},
     "source": [
      "# Data\n",
      "\n",
      "The [v1 Jester dataset](http://eigentaste.berkeley.edu/dataset/) provides something very much like the handbook of jokes we have been discussing. The original version of this dataset was constructed in conjunction with the development of the [Eigentaste recommender system](http://eigentaste.berkeley.edu/about.html) [[2]](http://goldberg.berkeley.edu/pubs/eigentaste.pdf). At this point in time, v1 contains over 4.1 million continuous ratings in the range [-10, 10] of 100 jokes from 73,421 users. These ratings were collected between Apr. 1999 and May 2003. In order to reduce the training time of the model for illustrative purposes, 1,000 users who have rated all 100 jokes will be selected randomly. We will implement a model that is suitable for collaborative filtering on this data and evaluate it in terms of root mean squared error (RMSE) to validate the results.\n",
      "\n",
      "Let's begin by exploring our data. We want to get a general feel for what it looks like and a sense for what sort of patterns it might contain."
     ]
    },
    {
     "cell_type": "code",
     "collapsed": false,
     "input": [
      "% matplotlib inline\n",
      "import matplotlib.pyplot as plt\n",
      "import pandas as pd\n",
      "import numpy as np\n",
      "\n",
      "\n",
      "data = pd.read_csv('data/jester-dataset-v1-dense-first-1000.csv')\n",
      "data.head()"
     ],
     "language": "python",
     "metadata": {},
     "outputs": [
      {
       "html": [
        "<div style=\"max-height:1000px;max-width:1500px;overflow:auto;\">\n",
        "<table border=\"1\" class=\"dataframe\">\n",
        "  <thead>\n",
        "    <tr style=\"text-align: right;\">\n",
        "      <th></th>\n",
        "      <th>1</th>\n",
        "      <th>2</th>\n",
        "      <th>3</th>\n",
        "      <th>4</th>\n",
        "      <th>5</th>\n",
        "      <th>6</th>\n",
        "      <th>7</th>\n",
        "      <th>8</th>\n",
        "      <th>9</th>\n",
        "      <th>10</th>\n",
        "      <th>...</th>\n",
        "      <th>91</th>\n",
        "      <th>92</th>\n",
        "      <th>93</th>\n",
        "      <th>94</th>\n",
        "      <th>95</th>\n",
        "      <th>96</th>\n",
        "      <th>97</th>\n",
        "      <th>98</th>\n",
        "      <th>99</th>\n",
        "      <th>100</th>\n",
        "    </tr>\n",
        "  </thead>\n",
        "  <tbody>\n",
        "    <tr>\n",
        "      <th>0</th>\n",
        "      <td> 4.08</td>\n",
        "      <td>-0.29</td>\n",
        "      <td> 6.36</td>\n",
        "      <td> 4.37</td>\n",
        "      <td>-2.38</td>\n",
        "      <td>-9.66</td>\n",
        "      <td>-0.73</td>\n",
        "      <td>-5.34</td>\n",
        "      <td> 8.88</td>\n",
        "      <td> 9.22</td>\n",
        "      <td>...</td>\n",
        "      <td> 2.82</td>\n",
        "      <td>-4.95</td>\n",
        "      <td>-0.29</td>\n",
        "      <td> 7.86</td>\n",
        "      <td>-0.19</td>\n",
        "      <td>-2.14</td>\n",
        "      <td> 3.06</td>\n",
        "      <td> 0.34</td>\n",
        "      <td>-4.32</td>\n",
        "      <td> 1.07</td>\n",
        "    </tr>\n",
        "    <tr>\n",
        "      <th>1</th>\n",
        "      <td>-6.17</td>\n",
        "      <td>-3.54</td>\n",
        "      <td> 0.44</td>\n",
        "      <td>-8.50</td>\n",
        "      <td>-7.09</td>\n",
        "      <td>-4.32</td>\n",
        "      <td>-8.69</td>\n",
        "      <td>-0.87</td>\n",
        "      <td>-6.65</td>\n",
        "      <td>-1.80</td>\n",
        "      <td>...</td>\n",
        "      <td>-3.54</td>\n",
        "      <td>-6.89</td>\n",
        "      <td>-0.68</td>\n",
        "      <td>-2.96</td>\n",
        "      <td>-2.18</td>\n",
        "      <td>-3.35</td>\n",
        "      <td> 0.05</td>\n",
        "      <td>-9.08</td>\n",
        "      <td>-5.05</td>\n",
        "      <td>-3.45</td>\n",
        "    </tr>\n",
        "    <tr>\n",
        "      <th>2</th>\n",
        "      <td> 6.84</td>\n",
        "      <td> 3.16</td>\n",
        "      <td> 9.17</td>\n",
        "      <td>-6.21</td>\n",
        "      <td>-8.16</td>\n",
        "      <td>-1.70</td>\n",
        "      <td> 9.27</td>\n",
        "      <td> 1.41</td>\n",
        "      <td>-5.19</td>\n",
        "      <td>-4.42</td>\n",
        "      <td>...</td>\n",
        "      <td> 7.23</td>\n",
        "      <td>-1.12</td>\n",
        "      <td>-0.10</td>\n",
        "      <td>-5.68</td>\n",
        "      <td>-3.16</td>\n",
        "      <td>-3.35</td>\n",
        "      <td> 2.14</td>\n",
        "      <td>-0.05</td>\n",
        "      <td> 1.31</td>\n",
        "      <td> 0.00</td>\n",
        "    </tr>\n",
        "    <tr>\n",
        "      <th>3</th>\n",
        "      <td>-3.79</td>\n",
        "      <td>-3.54</td>\n",
        "      <td>-9.42</td>\n",
        "      <td>-6.89</td>\n",
        "      <td>-8.74</td>\n",
        "      <td>-0.29</td>\n",
        "      <td>-5.29</td>\n",
        "      <td>-8.93</td>\n",
        "      <td>-7.86</td>\n",
        "      <td>-1.60</td>\n",
        "      <td>...</td>\n",
        "      <td> 4.37</td>\n",
        "      <td>-0.29</td>\n",
        "      <td> 4.17</td>\n",
        "      <td>-0.29</td>\n",
        "      <td>-0.29</td>\n",
        "      <td>-0.29</td>\n",
        "      <td>-0.29</td>\n",
        "      <td>-0.29</td>\n",
        "      <td>-3.40</td>\n",
        "      <td>-4.95</td>\n",
        "    </tr>\n",
        "    <tr>\n",
        "      <th>4</th>\n",
        "      <td> 1.31</td>\n",
        "      <td> 1.80</td>\n",
        "      <td> 2.57</td>\n",
        "      <td>-2.38</td>\n",
        "      <td> 0.73</td>\n",
        "      <td> 0.73</td>\n",
        "      <td>-0.97</td>\n",
        "      <td> 5.00</td>\n",
        "      <td>-7.23</td>\n",
        "      <td>-1.36</td>\n",
        "      <td>...</td>\n",
        "      <td> 1.46</td>\n",
        "      <td> 1.70</td>\n",
        "      <td> 0.29</td>\n",
        "      <td>-3.30</td>\n",
        "      <td> 3.45</td>\n",
        "      <td> 5.44</td>\n",
        "      <td> 4.08</td>\n",
        "      <td> 2.48</td>\n",
        "      <td> 4.51</td>\n",
        "      <td> 4.66</td>\n",
        "    </tr>\n",
        "  </tbody>\n",
        "</table>\n",
        "<p>5 rows \u00d7 100 columns</p>\n",
        "</div>"
       ],
       "metadata": {},
       "output_type": "pyout",
       "prompt_number": 14,
       "text": [
        "      1     2     3     4     5     6     7     8     9    10  ...     91  \\\n",
        "0  4.08 -0.29  6.36  4.37 -2.38 -9.66 -0.73 -5.34  8.88  9.22  ...   2.82   \n",
        "1 -6.17 -3.54  0.44 -8.50 -7.09 -4.32 -8.69 -0.87 -6.65 -1.80  ...  -3.54   \n",
        "2  6.84  3.16  9.17 -6.21 -8.16 -1.70  9.27  1.41 -5.19 -4.42  ...   7.23   \n",
        "3 -3.79 -3.54 -9.42 -6.89 -8.74 -0.29 -5.29 -8.93 -7.86 -1.60  ...   4.37   \n",
        "4  1.31  1.80  2.57 -2.38  0.73  0.73 -0.97  5.00 -7.23 -1.36  ...   1.46   \n",
        "\n",
        "     92    93    94    95    96    97    98    99   100  \n",
        "0 -4.95 -0.29  7.86 -0.19 -2.14  3.06  0.34 -4.32  1.07  \n",
        "1 -6.89 -0.68 -2.96 -2.18 -3.35  0.05 -9.08 -5.05 -3.45  \n",
        "2 -1.12 -0.10 -5.68 -3.16 -3.35  2.14 -0.05  1.31  0.00  \n",
        "3 -0.29  4.17 -0.29 -0.29 -0.29 -0.29 -0.29 -3.40 -4.95  \n",
        "4  1.70  0.29 -3.30  3.45  5.44  4.08  2.48  4.51  4.66  \n",
        "\n",
        "[5 rows x 100 columns]"
       ]
      }
     ],
     "prompt_number": 14
    },
    {
     "cell_type": "code",
     "collapsed": false,
     "input": [
      "# Extract the ratings from the DataFrame\n",
      "all_ratings = np.ndarray.flatten(data.values)\n",
      "ratings = pd.Series(all_ratings)\n",
      "\n",
      "# Plot histogram and density.\n",
      "fig, (ax1, ax2) = plt.subplots(1, 2, figsize=(16, 7))\n",
      "ratings.plot(kind='density', ax=ax1, grid=False)\n",
      "ax1.set_ylim(0, 0.08)\n",
      "ax1.set_xlim(-11, 11)\n",
      "\n",
      "# Plot histogram\n",
      "ratings.plot(kind='hist', ax=ax2, bins=20, grid=False)\n",
      "ax2.set_xlim(-11, 11)\n",
      "plt.show()"
     ],
     "language": "python",
     "metadata": {},
     "outputs": [
      {
       "metadata": {},
       "output_type": "display_data",
       "png": "[encoded data removed]",
       "text": [
        "<matplotlib.figure.Figure at 0x7fc484a39350>"
       ]
      }
     ],
     "prompt_number": 63
    },
    {
     "cell_type": "code",
     "collapsed": false,
     "input": [
      "ratings.describe()"
     ],
     "language": "python",
     "metadata": {},
     "outputs": [
      {
       "metadata": {},
       "output_type": "pyout",
       "prompt_number": 64,
       "text": [
        "count    100000.000000\n",
        "mean          0.996219\n",
        "std           5.265215\n",
        "min          -9.950000\n",
        "25%          -2.860000\n",
        "50%           1.650000\n",
        "75%           5.290000\n",
        "max           9.420000\n",
        "dtype: float64"
       ]
      }
     ],
     "prompt_number": 64
    },
    {
     "cell_type": "markdown",
     "metadata": {},
     "source": [
      "\n",
      "This must be a decent batch of jokes. From our exploration above, we know most ratings are in the range -1 to 10, and positive ratings are more likely than negative ratings. Let's look at the means for each joke to see if we have any particularly good (or bad) humor here.\n"
     ]
    },
    {
     "cell_type": "code",
     "collapsed": false,
     "input": [
      "joke_means = data.mean(axis=0)\n",
      "joke_means.plot(kind='bar', grid=False, figsize=(16, 6),\n",
      "                title=\"Mean Ratings for All 100 Jokes\")"
     ],
     "language": "python",
     "metadata": {},
     "outputs": [
      {
       "metadata": {},
       "output_type": "pyout",
       "prompt_number": 120,
       "text": [
        "<matplotlib.axes._subplots.AxesSubplot at 0x7fc46a3c5fd0>"
       ]
      },
      {
       "metadata": {},
       "output_type": "display_data",
       "png": "[encoded data removed]",
       "text": [
        "<matplotlib.figure.Figure at 0x7fc47db49850>"
       ]
      }
     ],
     "prompt_number": 120
    },
    {
     "cell_type": "markdown",
     "metadata": {},
     "source": [
      "While the majority of the jokes generally get positive feedback from users, there are definitely a few that stand out as poor humor. Let's take a look at the worst and best joke, just for fun."
     ]
    },
    {
     "cell_type": "code",
     "collapsed": false,
     "input": [
      "import os\n",
      "\n",
      "# Worst and best joke?\n",
      "worst_joke_id = joke_means.argmin()\n",
      "best_joke_id = joke_means.argmax()\n",
      "\n",
      "# Let's see for ourselves. Load the jokes.\n",
      "joke_dir = 'data/jokes'\n",
      "files = [os.path.join(joke_dir, fname) for fname in os.listdir(joke_dir)]\n",
      "jokes = [fname for fname in files if fname.endswith('txt')]\n",
      "nums = [filter(lambda c: c.isdigit(), fname) for fname in jokes]\n",
      "joke_dict = {k: v for k, v in zip(nums, jokes)}\n",
      "\n",
      "def read_joke(joke_id):\n",
      "    fname = joke_dict[joke_id]\n",
      "    with open(fname) as f:\n",
      "        return f.read()\n",
      "\n",
      "print 'The worst joke:\\n---------------\\n%s\\n' % read_joke(worst_joke_id)\n",
      "print 'The best joke:\\n--------------\\n%s' % read_joke(best_joke_id)"
     ],
     "language": "python",
     "metadata": {},
     "outputs": [
      {
       "output_type": "stream",
       "stream": "stdout",
       "text": [
        "The worst joke:\n",
        "---------------\n",
        "A Joke \n",
        "How many teddybears does it take to change a lightbulb?\n",
        "It takes only one teddybear, but it takes a whole lot of lightbulbs.\n",
        "\n",
        "The best joke:\n",
        "--------------\n",
        "A Joke \n",
        "A radio conversation of a US naval ship with Canadian authorities ... \n",
        "\n",
        "Americans: Please divert your course 15 degrees to the North to avoid a collision.\n",
        "Canadians: Recommend you divert YOUR course 15 degrees to the South to avoid a collision.\n",
        "Americans: This is the Captain of a US Navy ship.  I say again, divert YOUR course.\n",
        "Canadians: No. I say again, you divert YOUR course.\n",
        "Americans: This is the aircraft carrier USS LINCOLN, the second largest ship in the United States' Atlantic Fleet. We are accompanied by three destroyers, three cruisers and numerous support vessels. I demand that you change your course 15 degrees north, that's ONE FIVE DEGREES NORTH, or counter-measures will be undertaken to ensure the safety of this ship.\n",
        "Canadians: This is a lighthouse. Your call.\n",
        "\n"
       ]
      }
     ],
     "prompt_number": 66
    },
    {
     "cell_type": "markdown",
     "metadata": {},
     "source": [
      "Make sense to me. We now know there are definite popularity differences between the jokes. Some of them are simply funnier than others, and some are downright lousy. Looking at the joke means allowed us to discover these general trends. Perhaps there are similar trends across users. It might be the case that some users are simply more easily humored than others. Let's take a look."
     ]
    },
    {
     "cell_type": "code",
     "collapsed": false,
     "input": [
      "user_means = data.mean(axis=1)\n",
      "fig, ax = plt.subplots(figsize=(16, 6))\n",
      "user_means.plot(kind='bar', grid=False, ax=ax,\n",
      "                title=\"Mean Ratings for All 1000 Users\")\n",
      "ax.set_xticklabels('')  # 1000 labels is nonsensical\n",
      "fig.show()"
     ],
     "language": "python",
     "metadata": {},
     "outputs": [
      {
       "metadata": {},
       "output_type": "display_data",
       "png": "[encoded data removed]",
       "text": [
        "<matplotlib.figure.Figure at 0x7fc46696b210>"
       ]
      }
     ],
     "prompt_number": 119
    },
    {
     "cell_type": "markdown",
     "metadata": {},
     "source": [
      "We see even more significant trends here. Some users rate nearly everything highly, and some (though not as many) rate nearly everything negatively. These observations will come in handy when considering models to use for predicting user preferences on unseen jokes."
     ]
    },
    {
     "cell_type": "markdown",
     "metadata": {},
     "source": [
      "# Methods\n",
      "\n",
      "Having explored the data, we're now ready to dig in and start addressing the problem. We want to predict how much each user is going to like all of the jokes he or she has not yet read.\n",
      "\n",
      "\n",
      "## Baselines\n",
      "\n",
      "Every good analysis needs some kind of baseline methods to compare against. It's difficult to claim we've produced good results if we have no reference point for what defines \"good\". We'll define three very simple baseline methods and find the RMSE using these methods. Our goal will be to obtain lower RMSE scores with whatever model we produce.\n",
      "\n",
      "### Uniform Random Baseline\n",
      "\n",
      "Our first baseline is about as dead stupid as you can get. Every place we see a missing value in $R$, we'll simply fill it with a number drawn uniformly at random in the range [-10, 10]. We expect this method to do the worst by far.\n",
      "\n",
      "$$R_{ij}^* \\sim Uniform$$\n",
      "\n",
      "### Global Mean Baseline\n",
      "\n",
      "This method is only slightly better than the last. Wherever we have a missing value, we'll fill it in with the mean of all observed ratings.\n",
      "\n",
      "$$\\text{global_mean} = \\frac{1}{N \\times M} \\sum_{i=1}^N \\sum_{j=1}^M I_{ij}(R_{ij})$$\n",
      "\n",
      "$$R_{ij}^* = \\text{global_mean}$$\n",
      "\n",
      "### Mean of Means Baseline\n",
      "\n",
      "Now we're going to start getting a bit smarter. We imagine some users might be easily amused, and inclined to rate all jokes more highly. Other users might be the opposite. Additionally, some jokes might simply be more witty than others, so all users might rate some jokes more highly than others in general. We can clearly see this in our graph of the joke means above. We'll attempt to capture these general trends through per-user and per-joke rating means. We'll also incorporate the global mean to smooth things out a bit. So if we see a missing value in cell $R_{ij}$, we'll average the global mean with the mean of $U_i$ and the mean of $V_j$ and use that value to fill it in.\n",
      "\n",
      "$$\\text{user_means} = \\frac{1}{M} \\sum_{j=1}^M I_{ij}(R_{ij})$$\n",
      "\n",
      "$$\\text{joke_means} = \\frac{1}{N} \\sum_{i=1}^N I_{ij}(R_{ij})$$\n",
      "\n",
      "$$R_{ij}^* = \\frac{1}{3} \\left(\\text{user_means}_i + \\text{ joke_means}_j + \\text{ global_mean} \\right)$$\n"
     ]
    },
    {
     "cell_type": "code",
     "collapsed": false,
     "input": [
      "from collections import OrderedDict\n",
      "\n",
      "\n",
      "# Create a base class with scaffolding for our 3 baselines.\n",
      "\n",
      "def split_title(title):\n",
      "    \"\"\"Change \"BaselineMethod\" to \"Baseline Method\".\"\"\"\n",
      "    words = []\n",
      "    tmp = [title[0]]\n",
      "    for c in title[1:]:\n",
      "        if c.isupper():\n",
      "            words.append(''.join(tmp))\n",
      "            tmp = [c]\n",
      "        else:\n",
      "            tmp.append(c)\n",
      "    words.append(''.join(tmp))\n",
      "    return ' '.join(words)\n",
      "\n",
      "\n",
      "class Baseline(object):\n",
      "    \"\"\"Calculate baseline predictions.\"\"\"\n",
      "\n",
      "    def __init__(self, train_data):\n",
      "        \"\"\"Simple heuristic-based transductive learning to fill in missing\n",
      "        values in data matrix.\"\"\"\n",
      "        self.predict(train_data.copy())\n",
      "\n",
      "    def predict(self, train_data):\n",
      "        raise NotImplementedError(\n",
      "            'baseline prediction not implemented for base class')\n",
      "\n",
      "    def rmse(self, test_data):\n",
      "        \"\"\"Calculate root mean squared error for predictions on test data.\"\"\"\n",
      "        return rmse(test_data, self.predicted)\n",
      "    \n",
      "    def __str__(self):\n",
      "        return split_title(self.__class__.__name__)\n",
      "        \n",
      "\n",
      "\n",
      "# Implement the 3 baselines.\n",
      "\n",
      "class UniformRandomBaseline(Baseline):\n",
      "    \"\"\"Fill missing values with uniform random values.\"\"\"\n",
      "\n",
      "    def predict(self, train_data):\n",
      "        nan_mask = np.isnan(train_data)\n",
      "        masked_train = np.ma.masked_array(train_data, nan_mask)\n",
      "        pmin, pmax = masked_train.min(), masked_train.max()\n",
      "        N = nan_mask.sum()\n",
      "        train_data[nan_mask] = np.random.uniform(pmin, pmax, N)\n",
      "        self.predicted = train_data\n",
      "\n",
      "\n",
      "class GlobalMeanBaseline(Baseline):\n",
      "    \"\"\"Fill in missing values using the global mean.\"\"\"\n",
      "\n",
      "    def predict(self, train_data):\n",
      "        nan_mask = np.isnan(train_data)\n",
      "        train_data[nan_mask] = train_data[~nan_mask].mean()\n",
      "        self.predicted = train_data\n",
      "\n",
      "\n",
      "class MeanOfMeansBaseline(Baseline):\n",
      "    \"\"\"Fill in missing values using mean of user/item/global means.\"\"\"\n",
      "\n",
      "    def predict(self, train_data):\n",
      "        nan_mask = np.isnan(train_data)\n",
      "        masked_train = np.ma.masked_array(train_data, nan_mask)\n",
      "        global_mean = masked_train.mean()\n",
      "        user_means = masked_train.mean(axis=1)\n",
      "        item_means = masked_train.mean(axis=0)\n",
      "        self.predicted = train_data.copy()\n",
      "        n, m = train_data.shape\n",
      "        for i in xrange(n):\n",
      "            for j in xrange(m):\n",
      "                if np.ma.isMA(item_means[j]):\n",
      "                    self.predicted[i,j] = np.mean(\n",
      "                        (global_mean, user_means[i]))\n",
      "                else:\n",
      "                    self.predicted[i,j] = np.mean(\n",
      "                        (global_mean, user_means[i], item_means[j]))\n",
      "                    \n",
      "                    \n",
      "baseline_methods = OrderedDict()\n",
      "baseline_methods['ur'] = UniformRandomBaseline\n",
      "baseline_methods['gm'] = GlobalMeanBaseline\n",
      "baseline_methods['mom'] = MeanOfMeansBaseline"
     ],
     "language": "python",
     "metadata": {},
     "outputs": [],
     "prompt_number": 6
    },
    {
     "cell_type": "markdown",
     "metadata": {},
     "source": [
      "## Probabilistic Matrix Factorization\n",
      "\n",
      "[Probabilistic Matrix Factorization (PMF)](http://papers.nips.cc/paper/3208-probabilistic-matrix-factorization.pdf) [3] is a probabilistic approach to the collaborative filtering problem that takes a Bayesian perspective. The ratings $R$ are modeled as draws from a Gaussian distribution.  The mean for $R_{ij}$ is $U_i V_j^T$. The precision $\\alpha$ is a fixed parameter that reflects the uncertainty of the estimations; the normal distribution is commonly reparameterized in terms of precision, which is the inverse of the variance. Complexity is controlled by placing zero-mean spherical Gaussian priors on $U$ and $V$. In other words, each row of $U$ is drawn from a multivariate Gaussian with mean $\\mu = 0$ and precision which is some multiple of the identity matrix $I$. Those multiples are $\\alpha_U$ for $U$ and $\\alpha_V$ for $V$. So our model is defined by:\n",
      "\n",
      "$\\newcommand\\given[1][]{\\:#1\\vert\\:}$\n",
      "\n",
      "\\begin{equation}\n",
      "P(R \\given U, V, \\alpha^2) = \n",
      "    \\prod_{i=1}^N \\prod_{j=1}^M\n",
      "        \\left[ \\mathcal{N}(R_{ij} \\given U_i V_j^T, \\alpha^{-1}) \\right]^{I_{ij}}\n",
      "\\end{equation}\n",
      "\n",
      "\\begin{equation}\n",
      "P(U \\given \\alpha_U^2) =\n",
      "    \\prod_{i=1}^N \\mathcal{N}(U_i \\given 0, \\alpha_U^{-1} \\boldsymbol{I})\n",
      "\\end{equation}\n",
      "\n",
      "\\begin{equation}\n",
      "P(V \\given \\alpha_U^2) =\n",
      "    \\prod_{j=1}^M \\mathcal{N}(V_j \\given 0, \\alpha_V^{-1} \\boldsymbol{I})\n",
      "\\end{equation}\n",
      "\n",
      "Given small precision parameters, the priors on $U$ and $V$ ensure our latent variables do not grow too far from 0. This prevents overly strong user preferences and item factor compositions from being learned. This is commonly known as complexity control, where the complexity of the model here is measured by the magnitude of the latent variables. Controlling complexity like this helps prevent overfitting, which allows the model to generalize better for unseen data. We must also choose an appropriate $\\alpha$ value for the normal distribution for $R$. So the challenge becomes choosing appropriate values for $\\alpha_U$, $\\alpha_V$, and $\\alpha$. This challenge can be tackled with the soft weight-sharing methods discussed by [Nowland and Hinton, 1992](http://www.cs.toronto.edu/~fritz/absps/sunspots.pdf) [4]. However, for the purposes of this analysis, we will stick to using point estimates obtained from our data."
     ]
    },
    {
     "cell_type": "code",
     "collapsed": false,
     "input": [
      "import time\n",
      "import logging\n",
      "import pymc3 as pm\n",
      "import theano\n",
      "import scipy as sp\n",
      "\n",
      "\n",
      "# Enable on-the-fly graph computations, but ignore \n",
      "# absence of intermediate test values.\n",
      "theano.config.compute_test_value = 'ignore'\n",
      "\n",
      "# Set up logging.\n",
      "logger = logging.getLogger()\n",
      "logger.setLevel(logging.INFO)\n",
      "\n",
      "\n",
      "class PMF(object):\n",
      "    \"\"\"Probabilistic Matrix Factorization model using pymc3.\"\"\"\n",
      "\n",
      "    def __init__(self, train, dim, alpha=2, std=0.01, bounds=(-10, 10)):\n",
      "        \"\"\"Build the Probabilistic Matrix Factorization model using pymc3.\n",
      "\n",
      "        :param np.ndarray train: The training data to use for learning the model.\n",
      "        :param int dim: Dimensionality of the model; number of latent factors.\n",
      "        :param int alpha: Fixed precision for the likelihood function.\n",
      "        :param float std: Amount of noise to use for model initialization.\n",
      "        :param (tuple of int) bounds: (lower, upper) bound of ratings.\n",
      "            These bounds will simply be used to cap the estimates produced for R.\n",
      "\n",
      "        \"\"\"\n",
      "        self.dim = dim\n",
      "        self.alpha = alpha\n",
      "        self.std = np.sqrt(1.0 / alpha)\n",
      "        self.bounds = bounds\n",
      "        self.data = train.copy()\n",
      "        n, m = self.data.shape\n",
      "\n",
      "        # Perform mean value imputation\n",
      "        nan_mask = np.isnan(self.data)\n",
      "        self.data[nan_mask] = self.data[~nan_mask].mean()\n",
      "\n",
      "        # Low precision reflects uncertainty; prevents overfitting.\n",
      "        # Set to the mean variance across users and items.\n",
      "        self.alpha_u = 1 / self.data.var(axis=1).mean()\n",
      "        self.alpha_v = 1 / self.data.var(axis=0).mean()\n",
      "\n",
      "        # Specify the model.\n",
      "        logging.info('building the PMF model')\n",
      "        with pm.Model() as pmf:\n",
      "            U = pm.MvNormal(\n",
      "                'U', mu=0, tau=self.alpha_u * np.eye(dim),\n",
      "                shape=(n, dim), testval=np.random.randn(n, dim) * std)\n",
      "            V = pm.MvNormal(\n",
      "                'V', mu=0, tau=self.alpha_v * np.eye(dim),\n",
      "                shape=(m, dim), testval=np.random.randn(m, dim) * std)\n",
      "            R = pm.Normal(\n",
      "                'R', mu=theano.tensor.dot(U, V.T), tau=self.alpha * np.ones((n, m)),\n",
      "                observed=self.data)\n",
      "\n",
      "        logging.info('done building the PMF model') \n",
      "        self.model = pmf\n",
      "        \n",
      "    def __str__(self):\n",
      "        return self.name\n",
      "   "
     ],
     "language": "python",
     "metadata": {},
     "outputs": [],
     "prompt_number": 7
    },
    {
     "cell_type": "markdown",
     "metadata": {},
     "source": [
      "We'll also need functions for calculating the MAP and performing sampling on our PMF model. When the observation noise variance $\\alpha$ and the prior variances $\\alpha_U$ and $\\alpha_V$ are all kept fixed, maximizing the log posterior is equivalent to minimizing the sum-of-squared-errors objective function with quadratic regularization terms.\n",
      "\n",
      "$$\n",
      "E = \\frac{1}{2} \\sum_{i=1}^N \\sum_{j=1}^M I_{ij} (R_{ij} - U_i V_j^T)^2 +\n",
      "    \\frac{\\lambda_U}{2} \\sum_{i=1}^N \\|U\\|_{Fro}^2 +\n",
      "    \\frac{\\lambda_V}{2} \\sum_{j=1}^M \\|V\\|_{Fro}^2,\n",
      "$$\n",
      "\n",
      "where $\\lambda_U = \\alpha_U / \\alpha$, $\\lambda_V = \\alpha_V / \\alpha$, and $\\|\\cdot\\|_{Fro}^2$ denotes the Frobenius norm [3]. Minimizing this objective function gives a local minimum, which is essentially a maximum a posteriori (MAP) estimate. While it is possible to use a fast Stochastic Gradient Descent procedure to find this MAP, we'll be finding it using the utilities built into `pymc3`. In particular, we'll use `find_MAP` with Powell optimization (`scipy.optimize.fmin_powell`). Having found this MAP estimate, we can use it as our starting point for MCMC sampling.\n",
      "\n",
      "Since it is a reasonably complex model, we expect the MAP estimation to take some time. So let's save it after we've found it. Note that we define a function for finding the MAP below, assuming it will receive a namespace with some variables in it. Then we attach that function to the PMF class, where it will have such a namespace after initialization. The PMF class is defined in pieces this way so I can say a few things between each piece to make it clearer."
     ]
    },
    {
     "cell_type": "code",
     "collapsed": false,
     "input": [
      "try:\n",
      "    import ujson as json\n",
      "except ImportError:\n",
      "    import json\n",
      "\n",
      "\n",
      "# First define functions to save our MAP estimate after it is found.\n",
      "# We adapt these from `pymc3`'s `backends` module, where the original\n",
      "# code is used to save the traces from MCMC samples.\n",
      "def save_np_vars(vars, savedir):\n",
      "    \"\"\"Save a dictionary of numpy variables to `savedir`. We assume\n",
      "    the directory does not exist; an OSError will be raised if it does.\n",
      "    \"\"\"\n",
      "    logging.info('writing numpy vars to directory: %s' % savedir)\n",
      "    os.mkdir(savedir)\n",
      "    shapes = {}\n",
      "    for varname in vars:\n",
      "        data = vars[varname]\n",
      "        var_file = os.path.join(savedir, varname + '.txt')\n",
      "        np.savetxt(var_file, data.reshape(-1, data.size))\n",
      "        shapes[varname] = data.shape\n",
      "\n",
      "        ## Store shape information for reloading.\n",
      "        shape_file = os.path.join(savedir, 'shapes.json')\n",
      "        with open(shape_file, 'w') as sfh:\n",
      "            json.dump(shapes, sfh)\n",
      "            \n",
      "            \n",
      "def load_np_vars(savedir):\n",
      "    \"\"\"Load numpy variables saved with `save_np_vars`.\"\"\"\n",
      "    shape_file = os.path.join(savedir, 'shapes.json')\n",
      "    with open(shape_file, 'r') as sfh:\n",
      "        shapes = json.load(sfh)\n",
      "\n",
      "    vars = {}\n",
      "    for varname, shape in shapes.items():\n",
      "        var_file = os.path.join(savedir, varname + '.txt')\n",
      "        vars[varname] = np.loadtxt(var_file).reshape(shape)\n",
      "        \n",
      "    return vars\n",
      "\n",
      "\n",
      "# Now define the MAP estimation infrastructure.\n",
      "def _map_dir(self):\n",
      "    basename = 'pmf-map-d%d' % self.dim\n",
      "    return os.path.join('data', basename)\n",
      "\n",
      "def _find_map(self):\n",
      "    \"\"\"Find mode of posterior using Powell optimization.\"\"\"\n",
      "    tstart = time.time()\n",
      "    with self.model:\n",
      "        logging.info('finding PMF MAP using Powell optimization...')\n",
      "        self._map = pm.find_MAP(fmin=sp.optimize.fmin_powell, disp=True)\n",
      "\n",
      "    elapsed = int(time.time() - tstart)\n",
      "    logging.info('found PMF MAP in %d seconds' % elapsed)\n",
      "    \n",
      "    # This is going to take a good deal of time to find, so let's save it.\n",
      "    save_np_vars(self._map, self.map_dir)\n",
      "    \n",
      "def _load_map(self):\n",
      "    self._map = load_np_vars(self.map_dir)\n",
      "\n",
      "def _map(self):\n",
      "    try:\n",
      "        return self._map\n",
      "    except:\n",
      "        if os.path.isdir(self.map_dir):\n",
      "            self.load_map()\n",
      "        else:\n",
      "            self.find_map()\n",
      "        return self._map\n",
      "\n",
      "    \n",
      "# Update our class with the new MAP infrastructure.\n",
      "PMF.find_map = _find_map\n",
      "PMF.load_map = _load_map\n",
      "PMF.map_dir = property(_map_dir)\n",
      "PMF.map = property(_map)"
     ],
     "language": "python",
     "metadata": {},
     "outputs": [],
     "prompt_number": 8
    },
    {
     "cell_type": "markdown",
     "metadata": {},
     "source": [
      "So now our PMF class has a `map` `property` which will either be found using Powell optimization or loaded from a previous optimization. Once we have the MAP, we can use it as a starting point for our MCMC sampler. We'll need a sampling function in order to draw MCMC samples to approximate the posterior distribution of the PMF model."
     ]
    },
    {
     "cell_type": "code",
     "collapsed": false,
     "input": [
      "# Draw MCMC samples.\n",
      "def _trace_dir(self):\n",
      "    basename = 'pmf-mcmc-d%d' % self.dim\n",
      "    return os.path.join('data', basename)\n",
      "\n",
      "def _draw_samples(self, nsamples=1000, njobs=2):\n",
      "    # First make sure the trace_dir does not already exist.\n",
      "    if os.path.isdir(self.trace_dir):\n",
      "        raise OSError(\n",
      "            'trace directory %s already exists. Please move or delete.' % self.trace_dir)\n",
      "    start = self.map  # use our MAP as the starting point\n",
      "    with self.model:\n",
      "        logging.info('drawing %d samples using %d jobs' % (nsamples, njobs))\n",
      "        step = pm.NUTS(scaling=start)\n",
      "        backend = pm.backends.Text(self.trace_dir)\n",
      "        logging.info('backing up trace to directory: %s' % self.trace_dir)\n",
      "        self.trace = pm.sample(nsamples, step, start=start, njobs=njobs, trace=backend)\n",
      "        \n",
      "def _load_trace(self):\n",
      "    with self.model:\n",
      "        self.trace = pm.backends.text.load(self.trace_dir)\n",
      "\n",
      "        \n",
      "# Update our class with the sampling infrastructure.\n",
      "PMF.trace_dir = property(_trace_dir)\n",
      "PMF.draw_samples = _draw_samples\n",
      "PMF.load_trace = _load_trace"
     ],
     "language": "python",
     "metadata": {},
     "outputs": [],
     "prompt_number": 9
    },
    {
     "cell_type": "markdown",
     "metadata": {},
     "source": [
      "We could define some kind of default trace property like we did for the MAP, but that would mean using possibly nonsensical values for `nsamples` and `njobs`. Better to leave it as a non-optional call to `draw_samples`. Finally, we'll need a function to make predictions using our inferred values for $U$ and $V$. For user $i$ and joke $j$, a prediction is generated by drawing from $\\mathcal{N}(U_i V_j^T, \\alpha)$. To generate predictions from the sampler, we generate an $R$ matrix for each $U$ and $V$ sampled, then we combine these by averaging over the $K$ samples.\n",
      "\n",
      "\\begin{equation}\n",
      "P(R_{ij}^* \\given R, \\alpha, \\alpha_U, \\alpha_V) \\approx\n",
      "    \\frac{1}{K} \\sum_{k=1}^K \\mathcal{N}(U_i V_j^T, \\alpha)\n",
      "\\end{equation}\n",
      "\n",
      "We'll want to inspect the individual $R$ matrices before averaging them for diagnostic purposes. So we'll write code for the averaging piece during evaluation. The function below simply draws an $R$ matrix given a $U$ and $V$ and the fixed $\\alpha$ stored in the PMF object."
     ]
    },
    {
     "cell_type": "code",
     "collapsed": false,
     "input": [
      "def _predict(self, U, V):\n",
      "    \"\"\"Estimate R from the given values of U and V.\"\"\"\n",
      "    R = np.dot(U, V.T)\n",
      "    n, m = R.shape\n",
      "    sample_R = np.array([\n",
      "        [np.random.normal(R[i,j], self.std) for j in xrange(m)]\n",
      "        for i in xrange(n)\n",
      "    ])\n",
      "\n",
      "    # bound ratings\n",
      "    low, high = self.bounds\n",
      "    sample_R[sample_R < low] = low\n",
      "    sample_R[sample_R > high] = high\n",
      "    return sample_R\n",
      "\n",
      "\n",
      "PMF.predict = _predict"
     ],
     "language": "python",
     "metadata": {},
     "outputs": [],
     "prompt_number": 10
    },
    {
     "cell_type": "markdown",
     "metadata": {},
     "source": [
      "One final thing to note: the dot products in this model are often constrained using a logistic function $g(x) = 1/(1 + exp(-x))$, that bounds the predictions to the range [0, 1]. To facilitate this bounding, the ratings are also mapped to the range [0, 1] using $t(x) = (x + min) / range$. The authors of PMF also introduced a constrained version which performs better on users with less ratings [3]. Both models are generally improvements upon the basic model presented here. However, in the interest of time and space, these will not be implemented here."
     ]
    },
    {
     "cell_type": "markdown",
     "metadata": {},
     "source": [
      "# Evaluation\n",
      "\n",
      "## Metrics\n",
      "\n",
      "In order to understand how effective our models are, we'll need to be able to evaluate them. We'll be evaluating in terms of root mean squared error (RMSE), which looks like this:\n",
      "\n",
      "\\begin{equation}\n",
      "RMSE = \\sqrt{ \\frac{ \\sum_{i=1}^N \\sum_{j=1}^M I_{ij} (R_{ij} - R_{ij}^*)^2 }\n",
      "                   { \\sum_{i=1}^N \\sum_{j=1}^M I_{ij} } }\n",
      "\\end{equation}\n",
      "\n",
      "In this case, the RMSE can be thought of as the standard deviation of our predictions from the actual user preferences."
     ]
    },
    {
     "cell_type": "code",
     "collapsed": false,
     "input": [
      "# Define our evaluation function.\n",
      "def rmse(test_data, predicted):\n",
      "    \"\"\"Calculate root mean squared error.\n",
      "    Ignoring missing values in the test data.\n",
      "    \"\"\"\n",
      "    I = ~np.isnan(test_data)   # indicator for missing values\n",
      "    N = I.sum()                # number of non-missing values\n",
      "    sqerror = abs(test_data - predicted) ** 2  # squared error array\n",
      "    mse = sqerror[I].sum() / N                 # mean squared error\n",
      "    return np.sqrt(mse)                        # RMSE"
     ],
     "language": "python",
     "metadata": {},
     "outputs": [],
     "prompt_number": 11
    },
    {
     "cell_type": "markdown",
     "metadata": {},
     "source": [
      "## Training Data vs. Test Data\n",
      "\n",
      "The next thing we need to do is split our data into a training set and a test set. Matrix factorization techniques use [transductive learning](http://en.wikipedia.org/wiki/Transduction_%28machine_learning%29) rather than inductive learning. So we produce a test set by taking a random sample of the cells in the full $N \\times M$ data matrix. The values selected as test samples are replaced with `nan` values in a copy of the original data matrix to produce the training set. Since we'll be producing random splits, let's also write out the train/test sets generated. This will allow us to replicate our results. We'd like to be able to idenfity which split is which, so we'll take a hash of the indices selected for testing and use that to save the data."
     ]
    },
    {
     "cell_type": "code",
     "collapsed": false,
     "input": [
      "import hashlib\n",
      "\n",
      "\n",
      "# Define a function for splitting train/test data.\n",
      "def split_train_test(data, percent_test=10):\n",
      "    \"\"\"Split the data into train/test sets.\n",
      "    :param int percent_test: Percentage of data to use for testing. Default 10.\n",
      "    \"\"\"\n",
      "    n, m = data.shape             # # users, # jokes\n",
      "    N = n * m                     # # cells in matrix\n",
      "    test_size = N / percent_test  # use 10% of data as test set\n",
      "    train_size = N - test_size    # and remainder for training\n",
      "\n",
      "    # Prepare train/test ndarrays.\n",
      "    train = data.copy().values\n",
      "    test = np.ones(data.shape) * np.nan\n",
      "\n",
      "    # Draw random sample of training data to use for testing.\n",
      "    tosample = np.where(~np.isnan(train))       # ignore nan values in data\n",
      "    idx_pairs = zip(tosample[0], tosample[1])   # tuples of row/col index pairs\n",
      "    indices = np.arange(len(idx_pairs))         # indices of index pairs\n",
      "    sample = np.random.choice(indices, replace=False, size=test_size)\n",
      "\n",
      "    # Transfer random sample from train set to test set.\n",
      "    for idx in sample:\n",
      "        idx_pair = idx_pairs[idx]\n",
      "        test[idx_pair] = train[idx_pair]  # transfer to test set\n",
      "        train[idx_pair] = np.nan          # remove from train set\n",
      "\n",
      "    # Verify everything worked properly\n",
      "    assert(np.isnan(train).sum() == test_size)\n",
      "    assert(np.isnan(test).sum() == train_size)\n",
      "    \n",
      "    # Finally, hash the indices and save the train/test sets.\n",
      "    index_string = ''.join(map(str, np.sort(sample)))\n",
      "    name = hashlib.sha1(index_string).hexdigest()\n",
      "    savedir = os.path.join('data', name)\n",
      "    save_np_vars({'train': train, 'test': test}, savedir)\n",
      "    \n",
      "    # Return train set, test set, and unique hash of indices.\n",
      "    return train, test, name\n",
      "\n",
      "\n",
      "def load_train_test(name):\n",
      "    \"\"\"Load the train/test sets.\"\"\"\n",
      "    savedir = os.path.join('data', name)\n",
      "    vars = load_np_vars(savedir)\n",
      "    return vars['train'], vars['test']\n",
      "\n",
      "# train, test, name = split_train_test(data)"
     ],
     "language": "python",
     "metadata": {},
     "outputs": [],
     "prompt_number": 12
    },
    {
     "cell_type": "markdown",
     "metadata": {},
     "source": [
      "In order to facilitate reproducibility, I've produced a train/test split using the code above which we'll now use for all the evaluations below."
     ]
    },
    {
     "cell_type": "code",
     "collapsed": false,
     "input": [
      "train, test = load_train_test('6bb8d06c69c0666e6da14c094d4320d115f1ffc8')"
     ],
     "language": "python",
     "metadata": {},
     "outputs": [],
     "prompt_number": 15
    },
    {
     "cell_type": "markdown",
     "metadata": {},
     "source": [
      "# Results"
     ]
    },
    {
     "cell_type": "code",
     "collapsed": false,
     "input": [
      "# Let's see the results:\n",
      "baselines = {}\n",
      "for name in baseline_methods:\n",
      "    Method = baseline_methods[name]\n",
      "    method = Method(train)\n",
      "    baselines[name] = method.rmse(test)\n",
      "    print '%s RMSE:\\t%.5f' % (method, baselines[name])\n"
     ],
     "language": "python",
     "metadata": {},
     "outputs": [
      {
       "output_type": "stream",
       "stream": "stdout",
       "text": [
        "Uniform Random Baseline RMSE:\t7.77062\n",
        "Global Mean Baseline RMSE:\t5.25004\n",
        "Mean Of Means Baseline RMSE:\t4.79832"
       ]
      },
      {
       "output_type": "stream",
       "stream": "stdout",
       "text": [
        "\n"
       ]
      }
     ],
     "prompt_number": 16
    },
    {
     "cell_type": "markdown",
     "metadata": {},
     "source": [
      "As expected: the uniform random baseline is the worst by far, the global mean baseline is next best, and the mean of means method is our best baseline. Now let's see how PMF stacks up."
     ]
    },
    {
     "cell_type": "code",
     "collapsed": false,
     "input": [
      "# We use a fixed precision for the likelihood.\n",
      "# This reflects uncertainty in the dot product.\n",
      "# We choose 2 in the footsteps Salakhutdinov\n",
      "# Mnihof.\n",
      "ALPHA = 2\n",
      "\n",
      "# The dimensionality D; the number of latent factors.\n",
      "# We can adjust this higher to try to capture more subtle\n",
      "# characteristics of each joke. However, the higher it is,\n",
      "# the more expensive our inference procedures will be.\n",
      "# Specifically, we have D(N + M) latent variables. For our\n",
      "# Jester dataset, this means we have D(1100), so for 5\n",
      "# dimensions, we are sampling 5500 latent variables.\n",
      "DIM = 5\n",
      "\n",
      "\n",
      "pmf = PMF(train, DIM, ALPHA, std=0.05)"
     ],
     "language": "python",
     "metadata": {},
     "outputs": [
      {
       "output_type": "stream",
       "stream": "stderr",
       "text": [
        "INFO:root:building the PMF model\n"
       ]
      },
      {
       "output_type": "stream",
       "stream": "stderr",
       "text": [
        "INFO:root:done building the PMF model\n"
       ]
      }
     ],
     "prompt_number": 18
    },
    {
     "cell_type": "markdown",
     "metadata": {},
     "source": [
      "## Predictions Using MAP"
     ]
    },
    {
     "cell_type": "code",
     "collapsed": false,
     "input": [
      "# Find MAP for PMF.\n",
      "pmf.find_map()\n",
      "# pmf.load_map()"
     ],
     "language": "python",
     "metadata": {},
     "outputs": [
      {
       "output_type": "stream",
       "stream": "stderr",
       "text": [
        "INFO:root:finding MAP using Powell optimization...\n"
       ]
      },
      {
       "output_type": "stream",
       "stream": "stderr",
       "text": [
        "INFO:root:found MAP in 2575 seconds\n"
       ]
      },
      {
       "output_type": "stream",
       "stream": "stdout",
       "text": [
        "Optimization terminated successfully.\n",
        "         Current function value: 1553644.881552\n",
        "         Iterations: 33\n",
        "         Function evaluations: 1644948\n"
       ]
      }
     ],
     "prompt_number": 81
    },
    {
     "cell_type": "markdown",
     "metadata": {},
     "source": [
      "Excellent. The first thing we want to do is make sure the MAP estimate we obtained is reasonable. We can do this by computing RMSE on the predicted ratings obtained from the MAP values of $U$ and $V$. First we define a function for generating the predicted ratings $R$ from $U$ and $V$. We ensure the actual rating bounds are enforced by setting all values below -10 to -10 and all values above 10 to 10. Finally, we compute RMSE for both the training set and the test set. We expect the test RMSE to be higher. The difference between the two gives some idea of how much we have overfit. Some difference is always expected, but a very low RMSE on the training set with a high RMSE on the test set is a definite sign of overfitting."
     ]
    },
    {
     "cell_type": "code",
     "collapsed": false,
     "input": [
      "def eval_map(pmf_model, train, test):\n",
      "    U = pmf_model.map['U']\n",
      "    V = pmf_model.map['V']\n",
      "    \n",
      "    # Make predictions and calculate RMSE on train & test sets.\n",
      "    predictions = pmf_model.predict(U, V)\n",
      "    train_rmse = rmse(train, predictions)\n",
      "    test_rmse = rmse(test, predictions)\n",
      "    overfit = test_rmse - train_rmse\n",
      "    \n",
      "    # Print report.\n",
      "    print 'PMF MAP training RMSE: %.5f' % train_rmse\n",
      "    print 'PMF MAP testing RMSE:  %.5f' % test_rmse\n",
      "    print 'Train/test difference: %.5f' % overfit\n",
      "    \n",
      "    return test_rmse\n",
      "    \n",
      "\n",
      "# Add eval function to PMF class.\n",
      "PMF.eval_map = eval_map"
     ],
     "language": "python",
     "metadata": {},
     "outputs": [],
     "prompt_number": 20
    },
    {
     "cell_type": "code",
     "collapsed": false,
     "input": [
      "# Evaluate PMF MAP estimates.\n",
      "pmf_map_rmse = pmf.eval_map(train, test)\n",
      "pmf_improvement = baselines['mom'] - pmf_map_rmse\n",
      "print 'PMF MAP Improvement:   %.5f' % pmf_improvement"
     ],
     "language": "python",
     "metadata": {},
     "outputs": [
      {
       "output_type": "stream",
       "stream": "stdout",
       "text": [
        "PMF MAP training RMSE: 4.00824\n",
        "PMF MAP testing RMSE:  4.02974\n",
        "Train/test difference: 0.02150\n",
        "PMF MAP Improvement:   0.76858\n"
       ]
      }
     ],
     "prompt_number": 21
    },
    {
     "cell_type": "markdown",
     "metadata": {},
     "source": [
      "So we see a pretty nice improvement here when compared to our best baseline, which was the mean of means method. We also have a fairly small difference in the RMSE values between the train and the test sets. This indicates that the point estimates for $\\alpha_U$ and $\\alpha_V$ that we calculated from our data are doing a good job of controlling model complexity. Now let's see if we can improve our estimates by approximating our posterior distribution with MCMC sampling. We'll draw 1000 samples and back them up using the `pymc3.backend.Text` backend."
     ]
    },
    {
     "cell_type": "markdown",
     "metadata": {},
     "source": [
      "## Predictions using MCMC"
     ]
    },
    {
     "cell_type": "code",
     "collapsed": false,
     "input": [
      "# Draw MCMC samples.\n",
      "pmf.draw_samples(5000, njobs=3)\n",
      "\n",
      "# uncomment to load previous trace rather than drawing new samples.\n",
      "# pmf.load_trace()"
     ],
     "language": "python",
     "metadata": {},
     "outputs": [
      {
       "output_type": "stream",
       "stream": "stderr",
       "text": [
        "INFO:root:drawing 5000 samples using 3 jobs\n"
       ]
      },
      {
       "output_type": "stream",
       "stream": "stderr",
       "text": [
        "/home/mack/anaconda/lib/python2.7/site-packages/theano/scan_module/scan_perform_ext.py:133: RuntimeWarning: numpy.ndarray size changed, may indicate binary incompatibility\n",
        "  from scan_perform.scan_perform import *\n",
        "INFO:root:backing up trace to directory: data/pmf-mcmc-d5\n"
       ]
      },
      {
       "output_type": "stream",
       "stream": "stdout",
       "text": [
        "\r",
        " [                  0%                  ] 2 of 5000 complete in 0.7 sec\r",
        " [                  0%                  ] 48 of 5000 complete in 17.7 sec\r",
        " [                  1%                  ] 50 of 5000 complete in 18.7 sec\r",
        " [                  1%                  ] 99 of 5000 complete in 37.6 sec\r",
        " [                  2%                  ] 101 of 5000 complete in 38.3 sec\r",
        " [-                 2%                  ] 149 of 5000 complete in 74.6 sec\r",
        " [-                 3%                  ] 153 of 5000 complete in 75.2 sec\r",
        " [-                 3%                  ] 199 of 5000 complete in 117.4 sec\r",
        " [-                 4%                  ] 200 of 5000 complete in 118.4 sec\r",
        " [-                 4%                  ] 249 of 5000 complete in 210.9 sec\r",
        " [-                 5%                  ] 250 of 5000 complete in 211.4 sec\r",
        " [--                5%                  ] 299 of 5000 complete in 261.0 sec\r",
        " [--                6%                  ] 301 of 5000 complete in 261.9 sec\r",
        " [--                6%                  ] 348 of 5000 complete in 318.3 sec\r",
        " [--                7%                  ] 350 of 5000 complete in 319.0 sec\r",
        " [--                7%                  ] 382 of 5000 complete in 349.9 sec\r",
        " [-----------------100%-----------------] 5001 of 5000 complete in 7506.2 sec"
       ]
      }
     ],
     "prompt_number": 23
    },
    {
     "cell_type": "markdown",
     "metadata": {},
     "source": [
      "### Diagnostics and Posterior Predictive Check\n",
      "\n",
      "The next step is to check how many samples we should discard as burn-in. Normally, we'd do this using a traceplot to get some idea of where the sampled variables start to converge. In this case, we have high-dimensional samples, so we need to find a way to approximate them. One way was proposed by [Salakhutdinov and Mnih, p.886](https://www.cs.toronto.edu/~amnih/papers/bpmf.pdf). We can calculate the Frobenius norms of $U$ and $V$ at each step and monitor those for convergence. This essentially gives us some idea when the average magnitude of the latent variables is stabilizing. The equations for the Frobenius norms of $U$ and $V$ are shown below. We will use `numpy`'s `linalg` package to calculate these.\n",
      "\n",
      "$$\n",
      "\\|U\\|_{Fro}^2 = \\sqrt{\\sum_{i=1}^N \\sum_{d=1}^D |U_{id}|^2}, \\hspace{40pt}\n",
      "\\|V\\|_{Fro}^2 = \\sqrt{\\sum_{j=1}^M \\sum_{d=1}^D |V_{jd}|^2}\n",
      "$$"
     ]
    },
    {
     "cell_type": "code",
     "collapsed": false,
     "input": [
      "def _norms(pmf_model, monitor=('U', 'V'), ord='fro'):\n",
      "    \"\"\"Return norms of latent variables at each step in the\n",
      "    sample trace. These can be used to monitor convergence\n",
      "    of the sampler.\n",
      "    \"\"\"\n",
      "    monitor = ('U', 'V')\n",
      "    norms = {var: [] for var in monitor}\n",
      "    for sample in pmf_model.trace:\n",
      "        for var in monitor:\n",
      "            norms[var].append(np.linalg.norm(sample[var], ord))\n",
      "    return norms\n",
      "\n",
      "\n",
      "def _traceplot(pmf_model):\n",
      "    \"\"\"Plot Frobenius norms of U and V as a function of sample #.\"\"\"\n",
      "    trace_norms = pmf_model.norms()\n",
      "    u_series = pd.Series(trace_norms['U'])\n",
      "    v_series = pd.Series(trace_norms['V'])\n",
      "    fig, (ax1, ax2) = plt.subplots(1, 2, figsize=(15, 7))\n",
      "    u_series.plot(kind='line', ax=ax1, grid=False,\n",
      "                  title=\"$\\|U\\|_{Fro}^2$ at Each Sample\")\n",
      "    v_series.plot(kind='line', ax=ax2, grid=False,\n",
      "                  title=\"$\\|V\\|_{Fro}^2$ at Each Sample\")\n",
      "    ax1.set_xlabel(\"Sample Number\")\n",
      "    ax2.set_xlabel(\"Sample Number\")\n",
      "    \n",
      "    \n",
      "PMF.norms = _norms\n",
      "PMF.traceplot = _traceplot"
     ],
     "language": "python",
     "metadata": {},
     "outputs": [],
     "prompt_number": 35
    },
    {
     "cell_type": "code",
     "collapsed": false,
     "input": [
      "pmf.traceplot()"
     ],
     "language": "python",
     "metadata": {},
     "outputs": [
      {
       "metadata": {},
       "output_type": "display_data",
       "png": "[encoded data removed]",
       "text": [
        "<matplotlib.figure.Figure at 0x7f5327721290>"
       ]
      }
     ],
     "prompt_number": 36
    },
    {
     "cell_type": "markdown",
     "metadata": {},
     "source": [
      "It appears we get convergence of $U$ and $V$ after about 200 samples. When testing for convergence, we also want to see convergence of the particular statistics we are looking for, since different characteristics of the posterior may converge at different rates. Let's also do a traceplot of the RSME. We'll compute RMSE for both the train and the test set, even though the convergence is indicated by RMSE on the training set alone. In addition, let's compute a running RMSE on the train/test sets to see how aggregate performance improves or decreases as we continue to sample."
     ]
    },
    {
     "cell_type": "code",
     "collapsed": false,
     "input": [
      "def _running_rmse(pmf_model, test_data, train_data, burn_in=0, plot=True):\n",
      "    \"\"\"Calculate RMSE for each step of the trace to monitor convergence.\n",
      "    \"\"\"\n",
      "    burn_in = burn_in if len(pmf_model.trace) >= burn_in else 0\n",
      "    results = {'per-step-train': [], 'running-train': [],\n",
      "               'per-step-test': [], 'running-test': []}\n",
      "    R = np.zeros(test_data.shape)\n",
      "    for cnt, sample in enumerate(pmf_model.trace[burn_in:]):\n",
      "        sample_R = pmf_model.predict(sample['U'], sample['V'])\n",
      "        R += sample_R\n",
      "        running_R = R / (cnt + 1)\n",
      "        results['per-step-train'].append(rmse(train_data, sample_R))\n",
      "        results['running-train'].append(rmse(train_data, running_R))\n",
      "        results['per-step-test'].append(rmse(test_data, sample_R))\n",
      "        results['running-test'].append(rmse(test_data, running_R))\n",
      "    \n",
      "    results = pd.DataFrame(results)\n",
      "\n",
      "    if plot:\n",
      "        results.plot(\n",
      "            kind='line', grid=False, figsize=(15, 7),\n",
      "            title='Per-step and Running RMSE From Posterior Predictive')\n",
      "        \n",
      "    # Return the final predictions, and the RMSE calculations\n",
      "    return running_R, results\n",
      "\n",
      "\n",
      "PMF.running_rmse = _running_rmse"
     ],
     "language": "python",
     "metadata": {},
     "outputs": [],
     "prompt_number": 42
    },
    {
     "cell_type": "code",
     "collapsed": false,
     "input": [
      "predicted, results = pmf.running_rmse(test, train, burn_in=200)"
     ],
     "language": "python",
     "metadata": {},
     "outputs": [
      {
       "metadata": {},
       "output_type": "display_data",
       "png": "[encoded data removed]",
       "text": [
        "<matplotlib.figure.Figure at 0x7f532759c750>"
       ]
      }
     ],
     "prompt_number": 43
    },
    {
     "cell_type": "code",
     "collapsed": false,
     "input": [
      "# And our final RMSE?\n",
      "final_test_rmse = results['running-test'].values[-1]\n",
      "final_train_rmse = results['running-train'].values[-1]\n",
      "print 'Posterior predictive train RMSE: %.5f' % final_train_rmse\n",
      "print 'Posterior predictive test RMSE:  %.5f' % final_test_rmse\n",
      "print 'Train/test difference:           %.5f' % (final_test_rmse - final_train_rmse)\n",
      "print 'Improvement from MAP:            %.5f' % (pmf_map_rmse - final_test_rmse)\n",
      "print 'Improvement from Mean of Means:  %.5f' % (baselines['mom'] - final_test_rmse)"
     ],
     "language": "python",
     "metadata": {},
     "outputs": [
      {
       "output_type": "stream",
       "stream": "stdout",
       "text": [
        "Posterior predictive train RMSE: 3.92230\n",
        "Posterior predictive test RMSE:  4.18027\n",
        "Train/test difference:           0.25797\n",
        "Improvement from MAP:            -0.15052\n",
        "Improvement from Mean of Means:  0.61806\n"
       ]
      }
     ],
     "prompt_number": 45
    },
    {
     "cell_type": "markdown",
     "metadata": {},
     "source": [
      "We have some interesting results here. As expected, our MCMC sampler provides lower error on the training set. However, it seems it does so at the cost of overfitting the data. This results in a decrease in test RMSE as compared to the MAP, even though it is still much better than our best baseline. So why might this be the case? Recall that we used point estimates for our precision paremeters $\\alpha_U$ and $\\alpha_V$ and we chose a fixed precision $\\alpha$. It is quite likely that by doing this, we constrained our posterior in a way that biased it towards the training data. In reality, the variance in the user ratings and the joke ratings is unlikely to be equal to the means of sample variances we used. Also, the most reasonable observation precision $\\alpha$ is likely different as well."
     ]
    },
    {
     "cell_type": "markdown",
     "metadata": {},
     "source": [
      "## Summary of Results\n",
      "\n",
      "Let's summarize our results."
     ]
    },
    {
     "cell_type": "code",
     "collapsed": false,
     "input": [
      "size = 100  # RMSE doesn't really change after 100th sample anyway.\n",
      "all_results = pd.DataFrame({\n",
      "    'uniform random': np.repeat(baselines['ur'], size),\n",
      "    'global means': np.repeat(baselines['gm'], size),\n",
      "    'mean of means': np.repeat(baselines['mom'], size),\n",
      "    'PMF MAP': np.repeat(pmf_map_rmse, size),\n",
      "    'PMF MCMC': results['running-test'][:size],\n",
      "})\n",
      "fig, ax = plt.subplots(figsize=(10, 5))\n",
      "all_results.plot(kind='line', grid=False, ax=ax,\n",
      "                 title='RMSE for all methods')\n",
      "ax.set_xlabel(\"Number of Samples\")\n",
      "ax.set_ylabel(\"RMSE\")"
     ],
     "language": "python",
     "metadata": {},
     "outputs": [
      {
       "metadata": {},
       "output_type": "pyout",
       "prompt_number": 67,
       "text": [
        "<matplotlib.text.Text at 0x7f5327451a10>"
       ]
      },
      {
       "metadata": {},
       "output_type": "display_data",
       "png": "[encoded data removed]",
       "text": [
        "<matplotlib.figure.Figure at 0x7f532744c3d0>"
       ]
      }
     ],
     "prompt_number": 67
    },
    {
     "cell_type": "markdown",
     "metadata": {},
     "source": [
      "# Summary\n",
      "\n",
      "We set out to predict user preferences for unseen jokes. First we discussed the intuitive notion behind the user-user and item-item neighborhood approaches to collaborative filtering. Then we formalized our intuitions. With a firm understanding of our problem context, we moved on to exploring our subset of the Jester data. After discovering some general patterns, we defined three baseline methods: uniform random, global mean, and mean of means. With the goal of besting our baseline methods, we implemented the basic version of Probabilistic Matrix Factorization (PMF) using `pymc3`.\n",
      "\n",
      "Our results demonstrate that the mean of means method is our best baseline on our prediction task. As expected, we are able to obtain a significant decrease in RMSE using the PMF MAP estimate obtained via Powell optimization. We illustrated one way to monitor convergence of an MCMC sampler with a high-dimensionality sampling space using the Frobenius norms of the sampled variables. The traceplots using this method seem to indicate that our sampler converged to the posterior. Results using this posterior showed that attempting to improve the MAP estimation using MCMC sampling actually overfit the training data and increased test RMSE. This was likely caused by the constraining of the posterior via fixed precision parameters $\\alpha$, $\\alpha_U$, and $\\alpha_V$.\n",
      "\n",
      "As a followup to this analysis, it would be interesting to also implement the logistic and constrained versions of PMF. We expect both models to outperform the basic PMF model. We could also implement the [fully Bayesian version of PMF](https://www.cs.toronto.edu/~amnih/papers/bpmf.pdf) (BPMF), which places hyperpriors on the model parameters to automatically learn ideal mean and precision parameters for $U$ and $V$. This would likely resolve the issue we faced in this analysis. We would expect BPMF to improve upon the MAP estimation produced here by learning more suitable hyperparameters and parameters. For a basic (but working!) implementation of BPMF in `pymc3`, see [this gist](https://gist.github.com/macks22/00a17b1d374dfc267a9a).\n",
      "\n",
      "If you made it this far, then congratulations! You now have some idea of how to build a basic recommender system. These same ideas and methods can be used on many different recommendation tasks. Items can be movies, products, advertisements, courses, or even other people. Any time you can build yourself a user-item matrix with user preferences in the cells, you can use these types of collaborative filtering algorithms to predict the missing values. If you want to learn more about recommender systems, the first reference is a good place to start."
     ]
    },
    {
     "cell_type": "markdown",
     "metadata": {},
     "source": [
      "## References\n",
      "\n",
      "1.  Y. Koren, R. Bell, and C. Volinsky, \u201cMatrix Factorization Techniques for Recommender Systems,\u201d Computer, vol. 42, no. 8, pp. 30\u201337, Aug. 2009.\n",
      "2.  K. Goldberg, T. Roeder, D. Gupta, and C. Perkins, \u201cEigentaste: A constant time collaborative filtering algorithm,\u201d Information Retrieval, vol. 4, no. 2, pp. 133\u2013151, 2001.\n",
      "3.  A. Mnih and R. Salakhutdinov, \u201cProbabilistic matrix factorization,\u201d in Advances in neural information processing systems, 2007, pp. 1257\u20131264.\n",
      "4.  S. J. Nowlan and G. E. Hinton, \u201cSimplifying Neural Networks by Soft Weight-sharing,\u201d Neural Comput., vol. 4, no. 4, pp. 473\u2013493, Jul. 1992.\n",
      "5.  R. Salakhutdinov and A. Mnih, \u201cBayesian Probabilistic Matrix Factorization Using Markov Chain Monte Carlo,\u201d in Proceedings of the 25th International Conference on Machine Learning, New York, NY, USA, 2008, pp. 880\u2013887.\n",
      "\n",
      "\n",
      "\n",
      "\n"
     ]
    }
   ],
   "metadata": {}
  }
 ]
}