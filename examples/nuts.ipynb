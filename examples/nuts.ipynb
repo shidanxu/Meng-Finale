{
 "cells": [
  {
   "cell_type": "code",
   "execution_count": 8,
   "metadata": {
    "collapsed": false
   },
   "outputs": [],
   "source": [
    "from numpy import * \n",
    "from numpy.random import * \n",
    "import numpy as np\n",
    "from matplotlib import *\n",
    "\n",
    "\n",
    "def bernoulli(p):\n",
    "    return uniform(0, 1) < p\n",
    "\n",
    "def L(x): \n",
    "    return -.5*x**2\n",
    "def dL(x):\n",
    "    return -x\n",
    "\n",
    "e = .05\n",
    "Emax = 1000.\n",
    "\n",
    "def Leapfrog(q, r, s):\n",
    "\n",
    "    r1 = r + (s/2)*dL(q)\n",
    "    q1 = q + s * r1\n",
    "    r1 = r1 + (s/2)*dL(q1)\n",
    "    return q1, r1\n",
    "    \n",
    "        \n",
    "def step(qm1):\n",
    "    r0 = normal([0])\n",
    "    u = uniform(0, exp(L(qm1) - .5* r0.dot(r0) ))\n",
    "\n",
    "    qn = qm1\n",
    "    qp = qm1\n",
    "    rn = r0\n",
    "    rp = r0\n",
    "    j = 0\n",
    "    qm = qm1\n",
    "    n = 1\n",
    "    s = 1\n",
    "    while s == 1:\n",
    "        vj = bernoulli(.5) * 2 - 1\n",
    "        if vj == -1:\n",
    "            qn , rn , _, _, qprime , nprime , sprime = BuildTree(qn , rn , u, vj , j)\n",
    "        else:\n",
    "            _, _, qp , rp , qprime , nprime , sprime = BuildTree(qp , rp , u, vj , j)\n",
    "\n",
    "        if sprime == 1:\n",
    "            if bernoulli(min(1, nprime*1.0/n)):\n",
    "                qm = qprime \n",
    "                #print \"BT accept \" + str(qm)\n",
    "            else: \n",
    "                #print \"BT reject \" + str(qm)\n",
    "    \n",
    "                pass\n",
    "        n=n+nprime\n",
    "        s = sprime * ((qp - qn ).dot(rn) >= 0) * ((qp - qn ).dot(rp) >= 0)\n",
    "        j = j + 1\n",
    "        \n",
    "    return qm\n",
    "\n",
    "def BuildTree(q, r, u, v, j):\n",
    "    if j == 0:\n",
    "        #Base case—take one leapfrog step in the direction v.\n",
    "        qprime , rprime = Leapfrog(q, r, v*e)\n",
    "        nprime = (u <= exp(L(qprime ) - .5*rprime.dot(rprime)))*1\n",
    "\n",
    "        sprime = (u < exp(Emax + L(qprime) - .5*rprime.dot(rprime)))\n",
    "\n",
    "        return qprime , rprime , qprime , rprime , qprime , nprime , sprime \n",
    "    else:\n",
    "        #Recursion—implicitly build the left and right subtrees.\n",
    "        qn , rn , qp , rp , qprime , nprime , sprime = BuildTree(q, r, u, v, j - 1)\n",
    "        if sprime == 1:\n",
    "            if v == -1:\n",
    "                qn , rn , _, _, qprime2 , nprime2 , sprime2 = BuildTree(qn , rn , u, v, j - 1)\n",
    "            else:\n",
    "                _, _, qp , rp , qprime2 , nprime2 , sprime2 = BuildTree(qp , rp , u, v, j - 1)\n",
    "\n",
    "            if bernoulli(nprime2*1.0/(nprime +nprime2)):\n",
    "                qprime = qprime2 \n",
    "                #print \"BT accept \" + str(qprime)\n",
    "            else: \n",
    "                #print \"BT reject \" + str(qprime)\n",
    "\n",
    "                pass\n",
    "            sprime = sprime2 *((qp - qn ).dot(rn) >= 0)* ((qp - qn ).dot(rp) >= 0)\n",
    "            nprime = nprime + nprime2\n",
    "\n",
    "        return qn , rn , qp , rp , qprime , nprime , sprime \n",
    "\n",
    "    "
   ]
  },
  {
   "cell_type": "code",
   "execution_count": 9,
   "metadata": {
    "collapsed": false
   },
   "outputs": [
    {
     "name": "stderr",
     "output_type": "stream",
     "text": [
      "/Library/Python/2.7/site-packages/IPython/kernel/__main__.py:65: RuntimeWarning: overflow encountered in exp\n",
      "/Library/Python/2.7/site-packages/IPython/kernel/__main__.py:77: RuntimeWarning: invalid value encountered in divide\n"
     ]
    },
    {
     "name": "stdout",
     "output_type": "stream",
     "text": [
      "1.01298145675\n"
     ]
    },
    {
     "ename": "NameError",
     "evalue": "name 'plot' is not defined",
     "output_type": "error",
     "traceback": [
      "\u001b[0;31m---------------------------------------------------------------------------\u001b[0m",
      "\u001b[0;31mNameError\u001b[0m                                 Traceback (most recent call last)",
      "\u001b[0;32m<ipython-input-9-11d143ae6f37>\u001b[0m in \u001b[0;36m<module>\u001b[0;34m()\u001b[0m\n\u001b[1;32m      6\u001b[0m \u001b[0;34m\u001b[0m\u001b[0m\n\u001b[1;32m      7\u001b[0m \u001b[0;32mprint\u001b[0m \u001b[0mstd\u001b[0m\u001b[0;34m(\u001b[0m\u001b[0msamples\u001b[0m\u001b[0;34m)\u001b[0m\u001b[0;34m\u001b[0m\u001b[0m\n\u001b[0;32m----> 8\u001b[0;31m \u001b[0mplot\u001b[0m\u001b[0;34m(\u001b[0m\u001b[0msamples\u001b[0m\u001b[0;34m)\u001b[0m\u001b[0;34m\u001b[0m\u001b[0m\n\u001b[0m",
      "\u001b[0;31mNameError\u001b[0m: name 'plot' is not defined"
     ]
    }
   ],
   "source": [
    "samples = []\n",
    "q = np.array([0.])\n",
    "for i in range(2000):\n",
    "    samples.append(q)\n",
    "    q = step(q)\n",
    "\n",
    "print std(samples)\n",
    "plot(samples)"
   ]
  },
  {
   "cell_type": "code",
   "execution_count": null,
   "metadata": {
    "collapsed": false
   },
   "outputs": [],
   "source": [
    "numpy.random.seed(1)\n",
    "q = np.array([0.])\n",
    "print step(q)\n"
   ]
  },
  {
   "cell_type": "code",
   "execution_count": 4,
   "metadata": {
    "collapsed": false
   },
   "outputs": [
    {
     "data": {
      "text/plain": [
       "[<matplotlib.lines.Line2D at 0x94d56ac>]"
      ]
     },
     "execution_count": 4,
     "metadata": {},
     "output_type": "execute_result"
    },
    {
     "data": {
      "image/png": "[encoded data removed]"
     },
     "metadata": {},
     "output_type": "display_data"
    }
   ],
   "source": [
    "plot(d,'.')\n",
    "plot(g,'.')"
   ]
  },
  {
   "cell_type": "code",
   "execution_count": 12,
   "metadata": {
    "collapsed": false
   },
   "outputs": [
    {
     "data": {
      "text/plain": [
       "2"
      ]
     },
     "execution_count": 12,
     "metadata": {},
     "output_type": "execute_result"
    }
   ],
   "source": [
    "True + True"
   ]
  },
  {
   "cell_type": "code",
   "execution_count": null,
   "metadata": {
    "collapsed": false
   },
   "outputs": [],
   "source": []
  }
 ],
 "metadata": {
  "kernelspec": {
   "display_name": "Python 2",
   "language": "python",
   "name": "python2"
  },
  "language_info": {
   "codemirror_mode": {
    "name": "ipython",
    "version": 2
   },
   "file_extension": ".py",
   "mimetype": "text/x-python",
   "name": "python",
   "nbconvert_exporter": "python",
   "pygments_lexer": "ipython2",
   "version": "2.7.6"
  }
 },
 "nbformat": 4,
 "nbformat_minor": 0
}
